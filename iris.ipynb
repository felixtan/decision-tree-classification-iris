{
 "cells": [
  {
   "cell_type": "code",
   "execution_count": 110,
   "metadata": {},
   "outputs": [],
   "source": [
    "import pandas as pd\n",
    "import matplotlib.pyplot as plt\n",
    "import numpy as np\n",
    "%matplotlib inline"
   ]
  },
  {
   "cell_type": "code",
   "execution_count": 92,
   "metadata": {},
   "outputs": [],
   "source": [
    "df = pd.read_csv('./iris.csv')"
   ]
  },
  {
   "cell_type": "code",
   "execution_count": 93,
   "metadata": {},
   "outputs": [
    {
     "name": "stdout",
     "output_type": "stream",
     "text": [
      "<class 'pandas.core.frame.DataFrame'>\n",
      "RangeIndex: 150 entries, 0 to 149\n",
      "Data columns (total 5 columns):\n",
      "sepal_length    150 non-null float64\n",
      "sepal_width     150 non-null float64\n",
      "petal_length    150 non-null float64\n",
      "petal_width     150 non-null float64\n",
      "species         150 non-null object\n",
      "dtypes: float64(4), object(1)\n",
      "memory usage: 5.9+ KB\n"
     ]
    }
   ],
   "source": [
    "df.info()"
   ]
  },
  {
   "cell_type": "markdown",
   "metadata": {},
   "source": [
    "No missing values"
   ]
  },
  {
   "cell_type": "code",
   "execution_count": 94,
   "metadata": {},
   "outputs": [
    {
     "data": {
      "text/plain": [
       "virginica     50\n",
       "setosa        50\n",
       "versicolor    50\n",
       "Name: species, dtype: int64"
      ]
     },
     "execution_count": 94,
     "metadata": {},
     "output_type": "execute_result"
    }
   ],
   "source": [
    "df['species'].value_counts()"
   ]
  },
  {
   "cell_type": "markdown",
   "metadata": {},
   "source": [
    "### Feature engineering"
   ]
  },
  {
   "cell_type": "code",
   "execution_count": null,
   "metadata": {},
   "outputs": [],
   "source": [
    "y = df['species'].map({ 'virginica': 0, 'setosa': 1, 'versicolor': 2 })\n",
    "X = df.drop(columns=['species'])"
   ]
  },
  {
   "cell_type": "markdown",
   "metadata": {},
   "source": [
    "### Train and evaluate using train, test, split"
   ]
  },
  {
   "cell_type": "code",
   "execution_count": 125,
   "metadata": {},
   "outputs": [
    {
     "name": "stdout",
     "output_type": "stream",
     "text": [
      "Accuracy on training set: 1.000\n",
      "Accuracy on test set: 1.000\n"
     ]
    }
   ],
   "source": [
    "from sklearn.model_selection import cross_val_score\n",
    "from sklearn.tree import DecisionTreeClassifier\n",
    "from sklearn.model_selection import train_test_split\n",
    "\n",
    "X_train, X_test, y_train, y_test = train_test_split(X, y, test_size=0.25, random_state=42)\n",
    "\n",
    "tree = DecisionTreeClassifier(random_state=42)\n",
    "tree.fit(X_train, y_train)\n",
    "\n",
    "print(\"Accuracy on training set: {:.3f}\".format(tree.score(X_train, y_train))) \n",
    "print(\"Accuracy on test set: {:.3f}\".format(tree.score(X_test, y_test)))"
   ]
  },
  {
   "cell_type": "code",
   "execution_count": 124,
   "metadata": {},
   "outputs": [
    {
     "name": "stdout",
     "output_type": "stream",
     "text": [
      "depth: 6\n"
     ]
    }
   ],
   "source": [
    "print('depth: {}'.format(tree.tree_.max_depth))"
   ]
  },
  {
   "cell_type": "markdown",
   "metadata": {},
   "source": [
    "### Train and evaluate using cross-validation"
   ]
  },
  {
   "cell_type": "code",
   "execution_count": 121,
   "metadata": {},
   "outputs": [
    {
     "name": "stdout",
     "output_type": "stream",
     "text": [
      "mean score: 0.9533333333333334\n",
      "score std: 0.03399346342395189\n"
     ]
    }
   ],
   "source": [
    "from sklearn.model_selection import cross_val_score\n",
    "\n",
    "tree = DecisionTreeClassifier(random_state=42)\n",
    "tree.fit(X, y)\n",
    "scores = cross_val_score(tree, X, y, cv=5)\n",
    "\n",
    "print(f'mean score: {scores.mean()}')\n",
    "print(f'score std: {scores.std()}')"
   ]
  },
  {
   "cell_type": "code",
   "execution_count": 122,
   "metadata": {},
   "outputs": [
    {
     "name": "stdout",
     "output_type": "stream",
     "text": [
      "depth: 5\n"
     ]
    }
   ],
   "source": [
    "print('depth: {}'.format(tree.tree_.max_depth))"
   ]
  },
  {
   "cell_type": "markdown",
   "metadata": {},
   "source": [
    "The tree has 10 leaves."
   ]
  },
  {
   "cell_type": "code",
   "execution_count": 128,
   "metadata": {},
   "outputs": [
    {
     "data": {
      "text/html": [
       "<div>\n",
       "<style scoped>\n",
       "    .dataframe tbody tr th:only-of-type {\n",
       "        vertical-align: middle;\n",
       "    }\n",
       "\n",
       "    .dataframe tbody tr th {\n",
       "        vertical-align: top;\n",
       "    }\n",
       "\n",
       "    .dataframe thead th {\n",
       "        text-align: right;\n",
       "    }\n",
       "</style>\n",
       "<table border=\"1\" class=\"dataframe\">\n",
       "  <thead>\n",
       "    <tr style=\"text-align: right;\">\n",
       "      <th></th>\n",
       "      <th>importance</th>\n",
       "    </tr>\n",
       "  </thead>\n",
       "  <tbody>\n",
       "    <tr>\n",
       "      <th>sepal_length</th>\n",
       "      <td>0.000000</td>\n",
       "    </tr>\n",
       "    <tr>\n",
       "      <th>sepal_width</th>\n",
       "      <td>0.017876</td>\n",
       "    </tr>\n",
       "    <tr>\n",
       "      <th>petal_length</th>\n",
       "      <td>0.899746</td>\n",
       "    </tr>\n",
       "    <tr>\n",
       "      <th>petal_width</th>\n",
       "      <td>0.082378</td>\n",
       "    </tr>\n",
       "  </tbody>\n",
       "</table>\n",
       "</div>"
      ],
      "text/plain": [
       "              importance\n",
       "sepal_length    0.000000\n",
       "sepal_width     0.017876\n",
       "petal_length    0.899746\n",
       "petal_width     0.082378"
      ]
     },
     "execution_count": 128,
     "metadata": {},
     "output_type": "execute_result"
    }
   ],
   "source": [
    "# gini importances\n",
    "importances = pd.DataFrame(tree.feature_importances_, X.columns.values, columns=['importance'])\n",
    "importances"
   ]
  },
  {
   "cell_type": "markdown",
   "metadata": {},
   "source": [
    "# Reducing overfitting"
   ]
  },
  {
   "cell_type": "markdown",
   "metadata": {},
   "source": [
    "## Stopping by setting a maximum depth"
   ]
  },
  {
   "cell_type": "markdown",
   "metadata": {},
   "source": [
    "### max_depth = 4"
   ]
  },
  {
   "cell_type": "code",
   "execution_count": 131,
   "metadata": {},
   "outputs": [
    {
     "name": "stdout",
     "output_type": "stream",
     "text": [
      "Accuracy on training set: 0.991\n",
      "Accuracy on test set: 1.000\n",
      "Mean cv score: 0.9600000000000002\n",
      "cv score std: 0.03265986323710903\n"
     ]
    }
   ],
   "source": [
    "tree = DecisionTreeClassifier(random_state=42, max_depth=4)\n",
    "tree.fit(X, y)\n",
    "\n",
    "cv_scores = cross_val_score(tree, X, y, cv=5)\n",
    "\n",
    "print('Accuracy on training set: {:.3f}'.format(tree.score(X_train, y_train))) \n",
    "print('Accuracy on test set: {:.3f}'.format(tree.score(X_test, y_test)))\n",
    "print('Mean cv score: {}'.format(cv_scores.mean()))\n",
    "print('cv score std: {}'.format(cv_scores.std()))"
   ]
  },
  {
   "cell_type": "markdown",
   "metadata": {},
   "source": [
    "Increased score by 0.0067%"
   ]
  },
  {
   "cell_type": "markdown",
   "metadata": {},
   "source": [
    "### max_depth = 3"
   ]
  },
  {
   "cell_type": "code",
   "execution_count": 132,
   "metadata": {},
   "outputs": [
    {
     "name": "stdout",
     "output_type": "stream",
     "text": [
      "Accuracy on training set: 0.964\n",
      "Accuracy on test set: 1.000\n",
      "Mean cv score: 0.9533333333333334\n",
      "cv score std: 0.02666666666666666\n"
     ]
    }
   ],
   "source": [
    "tree = DecisionTreeClassifier(random_state=42, max_depth=3)\n",
    "tree.fit(X, y)\n",
    "\n",
    "cv_scores = cross_val_score(tree, X, y, cv=5)\n",
    "\n",
    "print('Accuracy on training set: {:.3f}'.format(tree.score(X_train, y_train))) \n",
    "print('Accuracy on test set: {:.3f}'.format(tree.score(X_test, y_test)))\n",
    "print('Mean cv score: {}'.format(cv_scores.mean()))\n",
    "print('cv score std: {}'.format(cv_scores.std()))"
   ]
  },
  {
   "cell_type": "markdown",
   "metadata": {},
   "source": [
    "Score is the same as when max_depth = 5"
   ]
  },
  {
   "cell_type": "markdown",
   "metadata": {},
   "source": [
    "### Helpers functions"
   ]
  },
  {
   "cell_type": "code",
   "execution_count": null,
   "metadata": {},
   "outputs": [],
   "source": [
    "# train and evaluate the model using passed in kargs\n",
    "def train_tree(**kargs):\n",
    "    tree = DecisionTreeClassifier(**kargs)\n",
    "    tree.fit(X, y)\n",
    "    return {\n",
    "        'train_set_score': tree.score(X_train, y_train),\n",
    "        'test_set_score': tree.score(X_test, y_test),\n",
    "        'cv_scores': cross_val_score(tree, X, y, cv=5)\n",
    "    }\n",
    "\n",
    "def print_scores(scores):\n",
    "    print(f\"Accuracy on training set: {scores['train_set_score']}\")\n",
    "    print(f\"Accuracy on test set: {scores['test_set_score']}\")\n",
    "    print(f\"Mean cv score: {scores['cv_scores'].mean()}\")\n",
    "    print(f\"cv score std: {scores['cv_scores'].std()}\") "
   ]
  },
  {
   "cell_type": "markdown",
   "metadata": {},
   "source": [
    "## Stopping by setting maximum leaves"
   ]
  },
  {
   "cell_type": "code",
   "execution_count": 159,
   "metadata": {},
   "outputs": [
    {
     "name": "stdout",
     "output_type": "stream",
     "text": [
      "max_leaf_nodes = 9\n",
      "Accuracy on training set: 1.0\n",
      "Accuracy on test set: 1.0\n",
      "Mean cv score: 0.9600000000000002\n",
      "cv score std: 0.03265986323710903\n",
      "\n",
      "\n",
      "max_leaf_nodes = 8\n",
      "Accuracy on training set: 0.9910714285714286\n",
      "Accuracy on test set: 1.0\n",
      "Mean cv score: 0.9600000000000002\n",
      "cv score std: 0.03265986323710903\n",
      "\n",
      "\n",
      "max_leaf_nodes = 7\n",
      "Accuracy on training set: 0.9910714285714286\n",
      "Accuracy on test set: 1.0\n",
      "Mean cv score: 0.9533333333333334\n",
      "cv score std: 0.03399346342395189\n",
      "\n",
      "\n",
      "max_leaf_nodes = 6\n",
      "Accuracy on training set: 0.9821428571428571\n",
      "Accuracy on test set: 1.0\n",
      "Mean cv score: 0.9533333333333334\n",
      "cv score std: 0.03399346342395189\n",
      "\n",
      "\n",
      "max_leaf_nodes = 5\n",
      "Accuracy on training set: 0.9732142857142857\n",
      "Accuracy on test set: 1.0\n",
      "Mean cv score: 0.9533333333333334\n",
      "cv score std: 0.03399346342395189\n",
      "\n",
      "\n",
      "max_leaf_nodes = 4\n",
      "Accuracy on training set: 0.9642857142857143\n",
      "Accuracy on test set: 1.0\n",
      "Mean cv score: 0.9533333333333334\n",
      "cv score std: 0.02666666666666666\n",
      "\n",
      "\n",
      "max_leaf_nodes = 3\n",
      "Accuracy on training set: 0.9464285714285714\n",
      "Accuracy on test set: 1.0\n",
      "Mean cv score: 0.9333333333333332\n",
      "cv score std: 0.04714045207910316\n",
      "\n",
      "\n",
      "max_leaf_nodes = 2\n",
      "Accuracy on training set: 0.6517857142857143\n",
      "Accuracy on test set: 0.7105263157894737\n",
      "Mean cv score: 0.6666666666666666\n",
      "cv score std: 0.0\n",
      "\n",
      "\n"
     ]
    }
   ],
   "source": [
    "# vary max_leaf_nodes from 9 to 2\n",
    "value_range = range(9, 1, -1)         \n",
    "\n",
    "scores = {v: train_tree(random_state=42, max_leaf_nodes=v) for v in value_range}\n",
    "          \n",
    "for value, scores in scores.items():\n",
    "    print(f'max_leaf_nodes = {value}')\n",
    "    print_scores(scores)\n",
    "    print('\\n')"
   ]
  },
  {
   "cell_type": "markdown",
   "metadata": {},
   "source": [
    "Score can be increased 0.0067% by reducing max leaf nodes to 9 or 8."
   ]
  },
  {
   "cell_type": "markdown",
   "metadata": {},
   "source": [
    "## Stopping by setting minimum samples for splitting"
   ]
  },
  {
   "cell_type": "code",
   "execution_count": 163,
   "metadata": {},
   "outputs": [
    {
     "name": "stdout",
     "output_type": "stream",
     "text": [
      "min_samples_split = 10\n",
      "Accuracy on training set: 0.9732142857142857\n",
      "Accuracy on test set: 1.0\n",
      "Mean cv score: 0.9533333333333334\n",
      "cv score std: 0.02666666666666666\n",
      "\n",
      "\n",
      "min_samples_split = 9\n",
      "Accuracy on training set: 0.9732142857142857\n",
      "Accuracy on test set: 1.0\n",
      "Mean cv score: 0.9533333333333334\n",
      "cv score std: 0.02666666666666666\n",
      "\n",
      "\n",
      "min_samples_split = 8\n",
      "Accuracy on training set: 0.9732142857142857\n",
      "Accuracy on test set: 1.0\n",
      "Mean cv score: 0.96\n",
      "cv score std: 0.024944382578492935\n",
      "\n",
      "\n",
      "min_samples_split = 7\n",
      "Accuracy on training set: 0.9732142857142857\n",
      "Accuracy on test set: 1.0\n",
      "Mean cv score: 0.96\n",
      "cv score std: 0.024944382578492935\n",
      "\n",
      "\n",
      "min_samples_split = 6\n",
      "Accuracy on training set: 0.9821428571428571\n",
      "Accuracy on test set: 1.0\n",
      "Mean cv score: 0.96\n",
      "cv score std: 0.024944382578492935\n",
      "\n",
      "\n",
      "min_samples_split = 5\n",
      "Accuracy on training set: 0.9821428571428571\n",
      "Accuracy on test set: 1.0\n",
      "Mean cv score: 0.96\n",
      "cv score std: 0.024944382578492935\n",
      "\n",
      "\n",
      "min_samples_split = 4\n",
      "Accuracy on training set: 0.9821428571428571\n",
      "Accuracy on test set: 1.0\n",
      "Mean cv score: 0.9600000000000002\n",
      "cv score std: 0.03265986323710903\n",
      "\n",
      "\n",
      "min_samples_split = 3\n",
      "Accuracy on training set: 1.0\n",
      "Accuracy on test set: 1.0\n",
      "Mean cv score: 0.9600000000000002\n",
      "cv score std: 0.03265986323710903\n",
      "\n",
      "\n",
      "min_samples_split = 2\n",
      "Accuracy on training set: 1.0\n",
      "Accuracy on test set: 1.0\n",
      "Mean cv score: 0.9533333333333334\n",
      "cv score std: 0.03399346342395189\n",
      "\n",
      "\n"
     ]
    }
   ],
   "source": [
    "# vary min_samples_split from 10 to 2\n",
    "value_range = range(10, 1, -1)\n",
    "\n",
    "scores = {v: train_tree(random_state=42, min_samples_split=v) for v in value_range}\n",
    "          \n",
    "for value, scores in scores.items():\n",
    "    print(f'min_samples_split = {value}')\n",
    "    print_scores(scores)\n",
    "    print('\\n')"
   ]
  },
  {
   "cell_type": "markdown",
   "metadata": {},
   "source": [
    "For min_samples_split in the range [5, 8] scores increased to 0.96 while having a lower std deviation than other values, meaning slightly higher precision. \n",
    "\n",
    "Values of 7 and 8 also had lower training set score while maintaining test set score. (idk if this is valid or not)"
   ]
  },
  {
   "cell_type": "markdown",
   "metadata": {},
   "source": [
    "## Stopping by setting minimum samples in leaf nodes"
   ]
  },
  {
   "cell_type": "code",
   "execution_count": 169,
   "metadata": {},
   "outputs": [
    {
     "name": "stdout",
     "output_type": "stream",
     "text": [
      "min_samples_leaf = 10\n",
      "Accuracy on training set: 0.9464285714285714\n",
      "Accuracy on test set: 1.0\n",
      "Mean cv score: 0.9333333333333332\n",
      "cv score std: 0.04714045207910316\n",
      "\n",
      "\n",
      "min_samples_leaf = 9\n",
      "Accuracy on training set: 0.9464285714285714\n",
      "Accuracy on test set: 1.0\n",
      "Mean cv score: 0.9333333333333332\n",
      "cv score std: 0.04714045207910316\n",
      "\n",
      "\n",
      "min_samples_leaf = 8\n",
      "Accuracy on training set: 0.9464285714285714\n",
      "Accuracy on test set: 1.0\n",
      "Mean cv score: 0.9333333333333332\n",
      "cv score std: 0.04714045207910316\n",
      "\n",
      "\n",
      "min_samples_leaf = 7\n",
      "Accuracy on training set: 0.9464285714285714\n",
      "Accuracy on test set: 1.0\n",
      "Mean cv score: 0.9333333333333332\n",
      "cv score std: 0.04714045207910316\n",
      "\n",
      "\n",
      "min_samples_leaf = 6\n",
      "Accuracy on training set: 0.9642857142857143\n",
      "Accuracy on test set: 1.0\n",
      "Mean cv score: 0.9333333333333332\n",
      "cv score std: 0.04714045207910316\n",
      "\n",
      "\n",
      "min_samples_leaf = 5\n",
      "Accuracy on training set: 0.9642857142857143\n",
      "Accuracy on test set: 1.0\n",
      "Mean cv score: 0.9333333333333332\n",
      "cv score std: 0.059628479399994376\n",
      "\n",
      "\n",
      "min_samples_leaf = 4\n",
      "Accuracy on training set: 0.9642857142857143\n",
      "Accuracy on test set: 1.0\n",
      "Mean cv score: 0.9466666666666667\n",
      "cv score std: 0.04521553322083511\n",
      "\n",
      "\n",
      "min_samples_leaf = 3\n",
      "Accuracy on training set: 0.9732142857142857\n",
      "Accuracy on test set: 1.0\n",
      "Mean cv score: 0.9466666666666667\n",
      "cv score std: 0.04521553322083511\n",
      "\n",
      "\n",
      "min_samples_leaf = 2\n",
      "Accuracy on training set: 0.9732142857142857\n",
      "Accuracy on test set: 1.0\n",
      "Mean cv score: 0.9466666666666667\n",
      "cv score std: 0.04521553322083511\n",
      "\n",
      "\n",
      "min_samples_leaf = 1\n",
      "Accuracy on training set: 1.0\n",
      "Accuracy on test set: 1.0\n",
      "Mean cv score: 0.9533333333333334\n",
      "cv score std: 0.03399346342395189\n",
      "\n",
      "\n"
     ]
    }
   ],
   "source": [
    "# vary min_samples_leaf from 10 to 1\n",
    "value_range = range(10, 0, -1)\n",
    "\n",
    "scores = {v: train_tree(random_state=42, min_samples_leaf=v) for v in value_range}\n",
    "          \n",
    "for value, scores in scores.items():\n",
    "    print(f'min_samples_leaf = {value}')\n",
    "    print_scores(scores)\n",
    "    print('\\n')"
   ]
  },
  {
   "cell_type": "markdown",
   "metadata": {},
   "source": [
    "Tuning min_samples_leaf didn't improve the score."
   ]
  },
  {
   "cell_type": "markdown",
   "metadata": {},
   "source": [
    "## Hyperparameter tuning"
   ]
  },
  {
   "cell_type": "code",
   "execution_count": null,
   "metadata": {},
   "outputs": [],
   "source": [
    "# try grid search and/or random search\n",
    "# http://chrisstrelioff.ws/sandbox/2015/06/25/decision_trees_in_python_again_cross_validation.html"
   ]
  },
  {
   "cell_type": "markdown",
   "metadata": {},
   "source": [
    "### Grid search"
   ]
  },
  {
   "cell_type": "code",
   "execution_count": 217,
   "metadata": {},
   "outputs": [
    {
     "name": "stdout",
     "output_type": "stream",
     "text": [
      "best score: 0.9666666666666667\n",
      "best criterion value: gini\n",
      "best max_depth value: 3\n",
      "best max_leaf_nodes value: 8\n",
      "best min_samples_split value: 5\n"
     ]
    }
   ],
   "source": [
    "from sklearn.model_selection import GridSearchCV\n",
    "\n",
    "param_grid = {\n",
    "    'criterion': ['gini', 'entropy'],\n",
    "    'max_depth': list(range(3, 6)) + [None],\n",
    "    'max_leaf_nodes': list(range(8, 11)) + [None],\n",
    "    'min_samples_split': list(range(2, 9))\n",
    "}\n",
    "\n",
    "gs = GridSearchCV(DecisionTreeClassifier(), param_grid, cv=10)\n",
    "gs.fit(X, y)\n",
    "\n",
    "print(f'best score: {gs.best_score_}')\n",
    "for param, value in gs.best_params_.items():\n",
    "    print(f'best {param} value: {value}')\n",
    "    \n"
   ]
  },
  {
   "cell_type": "markdown",
   "metadata": {},
   "source": [
    "Confirm results"
   ]
  },
  {
   "cell_type": "code",
   "execution_count": 226,
   "metadata": {},
   "outputs": [
    {
     "name": "stdout",
     "output_type": "stream",
     "text": [
      "cv scores mean: 0.9666666666666666\n",
      "cv scores std: 0.033333333333333326\n"
     ]
    }
   ],
   "source": [
    "tree2 = DecisionTreeClassifier(**gs.best_params_)\n",
    "cv_scores = cross_val_score(tree2, X, y, cv=10)\n",
    "print(f'cv scores mean: {cv_scores.mean()}')\n",
    "print(f'cv scores std: {cv_scores.std()}')"
   ]
  },
  {
   "cell_type": "markdown",
   "metadata": {},
   "source": [
    "### Random search\n",
    "\n",
    "\n",
    "\n"
   ]
  },
  {
   "cell_type": "code",
   "execution_count": 231,
   "metadata": {},
   "outputs": [
    {
     "name": "stdout",
     "output_type": "stream",
     "text": [
      "best score: 0.9666666666666667\n",
      "best min_samples_split value: 7\n",
      "best max_leaf_nodes value: 9\n",
      "best max_depth value: 3\n",
      "best criterion value: gini\n"
     ]
    }
   ],
   "source": [
    "from sklearn.model_selection import RandomizedSearchCV\n",
    "\n",
    "param_grid = {\n",
    "    'criterion': ['gini', 'entropy'],\n",
    "    'max_depth': list(range(3, 6)) + [None],\n",
    "    'max_leaf_nodes': list(range(8, 11)) + [None],\n",
    "    'min_samples_split': list(range(2, 9))\n",
    "}\n",
    "\n",
    "rs = RandomizedSearchCV(DecisionTreeClassifier(), param_grid, cv=10)\n",
    "rs.fit(X, y)\n",
    "\n",
    "print(f'best score: {rs.best_score_}')\n",
    "for param, value in rs.best_params_.items():\n",
    "    print(f'best {param} value: {value}')"
   ]
  },
  {
   "cell_type": "code",
   "execution_count": 232,
   "metadata": {},
   "outputs": [
    {
     "name": "stdout",
     "output_type": "stream",
     "text": [
      "cv scores mean: 0.9666666666666666\n",
      "cv scores std: 0.033333333333333326\n"
     ]
    }
   ],
   "source": [
    "tree3 = DecisionTreeClassifier(**rs.best_params_)\n",
    "cv_scores = cross_val_score(tree3, X, y, cv=10)\n",
    "print(f'cv scores mean: {cv_scores.mean()}')\n",
    "print(f'cv scores std: {cv_scores.std()}')"
   ]
  },
  {
   "cell_type": "markdown",
   "metadata": {},
   "source": [
    "## Pruning"
   ]
  },
  {
   "cell_type": "code",
   "execution_count": 171,
   "metadata": {},
   "outputs": [
    {
     "data": {
      "image/svg+xml": [
       "<?xml version=\"1.0\" encoding=\"UTF-8\" standalone=\"no\"?>\n",
       "<!DOCTYPE svg PUBLIC \"-//W3C//DTD SVG 1.1//EN\"\n",
       " \"http://www.w3.org/Graphics/SVG/1.1/DTD/svg11.dtd\">\n",
       "<!-- Generated by graphviz version 2.40.1 (20161225.0304)\n",
       " -->\n",
       "<!-- Title: Tree Pages: 1 -->\n",
       "<svg width=\"791pt\" height=\"581pt\"\n",
       " viewBox=\"0.00 0.00 791.00 581.00\" xmlns=\"http://www.w3.org/2000/svg\" xmlns:xlink=\"http://www.w3.org/1999/xlink\">\n",
       "<g id=\"graph0\" class=\"graph\" transform=\"scale(1 1) rotate(0) translate(4 577)\">\n",
       "<title>Tree</title>\n",
       "<polygon fill=\"#ffffff\" stroke=\"transparent\" points=\"-4,4 -4,-577 787,-577 787,4 -4,4\"/>\n",
       "<!-- 0 -->\n",
       "<g id=\"node1\" class=\"node\">\n",
       "<title>0</title>\n",
       "<polygon fill=\"transparent\" stroke=\"#000000\" points=\"480,-573 347,-573 347,-505 480,-505 480,-573\"/>\n",
       "<text text-anchor=\"middle\" x=\"413.5\" y=\"-557.8\" font-family=\"Times,serif\" font-size=\"14.00\" fill=\"#000000\">petal_length &lt;= 2.45</text>\n",
       "<text text-anchor=\"middle\" x=\"413.5\" y=\"-542.8\" font-family=\"Times,serif\" font-size=\"14.00\" fill=\"#000000\">samples = 150</text>\n",
       "<text text-anchor=\"middle\" x=\"413.5\" y=\"-527.8\" font-family=\"Times,serif\" font-size=\"14.00\" fill=\"#000000\">value = [50, 50, 50]</text>\n",
       "<text text-anchor=\"middle\" x=\"413.5\" y=\"-512.8\" font-family=\"Times,serif\" font-size=\"14.00\" fill=\"#000000\">class = 0</text>\n",
       "</g>\n",
       "<!-- 1 -->\n",
       "<g id=\"node2\" class=\"node\">\n",
       "<title>1</title>\n",
       "<polygon fill=\"#39e581\" stroke=\"#000000\" points=\"400,-461.5 287,-461.5 287,-408.5 400,-408.5 400,-461.5\"/>\n",
       "<text text-anchor=\"middle\" x=\"343.5\" y=\"-446.3\" font-family=\"Times,serif\" font-size=\"14.00\" fill=\"#000000\">samples = 50</text>\n",
       "<text text-anchor=\"middle\" x=\"343.5\" y=\"-431.3\" font-family=\"Times,serif\" font-size=\"14.00\" fill=\"#000000\">value = [0, 50, 0]</text>\n",
       "<text text-anchor=\"middle\" x=\"343.5\" y=\"-416.3\" font-family=\"Times,serif\" font-size=\"14.00\" fill=\"#000000\">class = 1</text>\n",
       "</g>\n",
       "<!-- 0&#45;&gt;1 -->\n",
       "<g id=\"edge1\" class=\"edge\">\n",
       "<title>0&#45;&gt;1</title>\n",
       "<path fill=\"none\" stroke=\"#000000\" d=\"M390.5794,-504.9465C383.0172,-493.7113 374.5976,-481.2021 366.9933,-469.9043\"/>\n",
       "<polygon fill=\"#000000\" stroke=\"#000000\" points=\"369.8523,-467.8837 361.3649,-461.5422 364.0452,-471.7924 369.8523,-467.8837\"/>\n",
       "<text text-anchor=\"middle\" x=\"356.5705\" y=\"-482.3781\" font-family=\"Times,serif\" font-size=\"14.00\" fill=\"#000000\">True</text>\n",
       "</g>\n",
       "<!-- 2 -->\n",
       "<g id=\"node3\" class=\"node\">\n",
       "<title>2</title>\n",
       "<polygon fill=\"transparent\" stroke=\"#000000\" points=\"548.5,-469 418.5,-469 418.5,-401 548.5,-401 548.5,-469\"/>\n",
       "<text text-anchor=\"middle\" x=\"483.5\" y=\"-453.8\" font-family=\"Times,serif\" font-size=\"14.00\" fill=\"#000000\">petal_width &lt;= 1.75</text>\n",
       "<text text-anchor=\"middle\" x=\"483.5\" y=\"-438.8\" font-family=\"Times,serif\" font-size=\"14.00\" fill=\"#000000\">samples = 100</text>\n",
       "<text text-anchor=\"middle\" x=\"483.5\" y=\"-423.8\" font-family=\"Times,serif\" font-size=\"14.00\" fill=\"#000000\">value = [50, 0, 50]</text>\n",
       "<text text-anchor=\"middle\" x=\"483.5\" y=\"-408.8\" font-family=\"Times,serif\" font-size=\"14.00\" fill=\"#000000\">class = 0</text>\n",
       "</g>\n",
       "<!-- 0&#45;&gt;2 -->\n",
       "<g id=\"edge2\" class=\"edge\">\n",
       "<title>0&#45;&gt;2</title>\n",
       "<path fill=\"none\" stroke=\"#000000\" d=\"M436.4206,-504.9465C442.2826,-496.2373 448.6598,-486.7626 454.773,-477.6801\"/>\n",
       "<polygon fill=\"#000000\" stroke=\"#000000\" points=\"457.8476,-479.3802 460.5279,-469.13 452.0405,-475.4716 457.8476,-479.3802\"/>\n",
       "<text text-anchor=\"middle\" x=\"465.3223\" y=\"-489.966\" font-family=\"Times,serif\" font-size=\"14.00\" fill=\"#000000\">False</text>\n",
       "</g>\n",
       "<!-- 3 -->\n",
       "<g id=\"node4\" class=\"node\">\n",
       "<title>3</title>\n",
       "<polygon fill=\"#8139e5\" fill-opacity=\"0.898039\" stroke=\"#000000\" points=\"449,-365 316,-365 316,-297 449,-297 449,-365\"/>\n",
       "<text text-anchor=\"middle\" x=\"382.5\" y=\"-349.8\" font-family=\"Times,serif\" font-size=\"14.00\" fill=\"#000000\">petal_length &lt;= 4.95</text>\n",
       "<text text-anchor=\"middle\" x=\"382.5\" y=\"-334.8\" font-family=\"Times,serif\" font-size=\"14.00\" fill=\"#000000\">samples = 54</text>\n",
       "<text text-anchor=\"middle\" x=\"382.5\" y=\"-319.8\" font-family=\"Times,serif\" font-size=\"14.00\" fill=\"#000000\">value = [5, 0, 49]</text>\n",
       "<text text-anchor=\"middle\" x=\"382.5\" y=\"-304.8\" font-family=\"Times,serif\" font-size=\"14.00\" fill=\"#000000\">class = 2</text>\n",
       "</g>\n",
       "<!-- 2&#45;&gt;3 -->\n",
       "<g id=\"edge3\" class=\"edge\">\n",
       "<title>2&#45;&gt;3</title>\n",
       "<path fill=\"none\" stroke=\"#000000\" d=\"M450.4288,-400.9465C441.6221,-391.8782 432.0093,-381.9799 422.8597,-372.5585\"/>\n",
       "<polygon fill=\"#000000\" stroke=\"#000000\" points=\"425.1232,-369.8654 415.6455,-365.13 420.1015,-374.7422 425.1232,-369.8654\"/>\n",
       "</g>\n",
       "<!-- 12 -->\n",
       "<g id=\"node13\" class=\"node\">\n",
       "<title>12</title>\n",
       "<polygon fill=\"#e58139\" fill-opacity=\"0.976471\" stroke=\"#000000\" points=\"651,-365 518,-365 518,-297 651,-297 651,-365\"/>\n",
       "<text text-anchor=\"middle\" x=\"584.5\" y=\"-349.8\" font-family=\"Times,serif\" font-size=\"14.00\" fill=\"#000000\">petal_length &lt;= 4.85</text>\n",
       "<text text-anchor=\"middle\" x=\"584.5\" y=\"-334.8\" font-family=\"Times,serif\" font-size=\"14.00\" fill=\"#000000\">samples = 46</text>\n",
       "<text text-anchor=\"middle\" x=\"584.5\" y=\"-319.8\" font-family=\"Times,serif\" font-size=\"14.00\" fill=\"#000000\">value = [45, 0, 1]</text>\n",
       "<text text-anchor=\"middle\" x=\"584.5\" y=\"-304.8\" font-family=\"Times,serif\" font-size=\"14.00\" fill=\"#000000\">class = 0</text>\n",
       "</g>\n",
       "<!-- 2&#45;&gt;12 -->\n",
       "<g id=\"edge12\" class=\"edge\">\n",
       "<title>2&#45;&gt;12</title>\n",
       "<path fill=\"none\" stroke=\"#000000\" d=\"M516.5712,-400.9465C525.3779,-391.8782 534.9907,-381.9799 544.1403,-372.5585\"/>\n",
       "<polygon fill=\"#000000\" stroke=\"#000000\" points=\"546.8985,-374.7422 551.3545,-365.13 541.8768,-369.8654 546.8985,-374.7422\"/>\n",
       "</g>\n",
       "<!-- 4 -->\n",
       "<g id=\"node5\" class=\"node\">\n",
       "<title>4</title>\n",
       "<polygon fill=\"#8139e5\" fill-opacity=\"0.980392\" stroke=\"#000000\" points=\"249.5,-261 119.5,-261 119.5,-193 249.5,-193 249.5,-261\"/>\n",
       "<text text-anchor=\"middle\" x=\"184.5\" y=\"-245.8\" font-family=\"Times,serif\" font-size=\"14.00\" fill=\"#000000\">petal_width &lt;= 1.65</text>\n",
       "<text text-anchor=\"middle\" x=\"184.5\" y=\"-230.8\" font-family=\"Times,serif\" font-size=\"14.00\" fill=\"#000000\">samples = 48</text>\n",
       "<text text-anchor=\"middle\" x=\"184.5\" y=\"-215.8\" font-family=\"Times,serif\" font-size=\"14.00\" fill=\"#000000\">value = [1, 0, 47]</text>\n",
       "<text text-anchor=\"middle\" x=\"184.5\" y=\"-200.8\" font-family=\"Times,serif\" font-size=\"14.00\" fill=\"#000000\">class = 2</text>\n",
       "</g>\n",
       "<!-- 3&#45;&gt;4 -->\n",
       "<g id=\"edge4\" class=\"edge\">\n",
       "<title>3&#45;&gt;4</title>\n",
       "<path fill=\"none\" stroke=\"#000000\" d=\"M317.6674,-296.9465C298.7788,-287.0252 277.9988,-276.1105 258.5858,-265.9138\"/>\n",
       "<polygon fill=\"#000000\" stroke=\"#000000\" points=\"259.9589,-262.6816 249.4783,-261.13 256.7038,-268.8787 259.9589,-262.6816\"/>\n",
       "</g>\n",
       "<!-- 7 -->\n",
       "<g id=\"node8\" class=\"node\">\n",
       "<title>7</title>\n",
       "<polygon fill=\"#e58139\" fill-opacity=\"0.498039\" stroke=\"#000000\" points=\"447.5,-261 317.5,-261 317.5,-193 447.5,-193 447.5,-261\"/>\n",
       "<text text-anchor=\"middle\" x=\"382.5\" y=\"-245.8\" font-family=\"Times,serif\" font-size=\"14.00\" fill=\"#000000\">petal_width &lt;= 1.55</text>\n",
       "<text text-anchor=\"middle\" x=\"382.5\" y=\"-230.8\" font-family=\"Times,serif\" font-size=\"14.00\" fill=\"#000000\">samples = 6</text>\n",
       "<text text-anchor=\"middle\" x=\"382.5\" y=\"-215.8\" font-family=\"Times,serif\" font-size=\"14.00\" fill=\"#000000\">value = [4, 0, 2]</text>\n",
       "<text text-anchor=\"middle\" x=\"382.5\" y=\"-200.8\" font-family=\"Times,serif\" font-size=\"14.00\" fill=\"#000000\">class = 0</text>\n",
       "</g>\n",
       "<!-- 3&#45;&gt;7 -->\n",
       "<g id=\"edge7\" class=\"edge\">\n",
       "<title>3&#45;&gt;7</title>\n",
       "<path fill=\"none\" stroke=\"#000000\" d=\"M382.5,-296.9465C382.5,-288.776 382.5,-279.9318 382.5,-271.3697\"/>\n",
       "<polygon fill=\"#000000\" stroke=\"#000000\" points=\"386.0001,-271.13 382.5,-261.13 379.0001,-271.13 386.0001,-271.13\"/>\n",
       "</g>\n",
       "<!-- 5 -->\n",
       "<g id=\"node6\" class=\"node\">\n",
       "<title>5</title>\n",
       "<polygon fill=\"#8139e5\" stroke=\"#000000\" points=\"113,-149.5 0,-149.5 0,-96.5 113,-96.5 113,-149.5\"/>\n",
       "<text text-anchor=\"middle\" x=\"56.5\" y=\"-134.3\" font-family=\"Times,serif\" font-size=\"14.00\" fill=\"#000000\">samples = 47</text>\n",
       "<text text-anchor=\"middle\" x=\"56.5\" y=\"-119.3\" font-family=\"Times,serif\" font-size=\"14.00\" fill=\"#000000\">value = [0, 0, 47]</text>\n",
       "<text text-anchor=\"middle\" x=\"56.5\" y=\"-104.3\" font-family=\"Times,serif\" font-size=\"14.00\" fill=\"#000000\">class = 2</text>\n",
       "</g>\n",
       "<!-- 4&#45;&gt;5 -->\n",
       "<g id=\"edge5\" class=\"edge\">\n",
       "<title>4&#45;&gt;5</title>\n",
       "<path fill=\"none\" stroke=\"#000000\" d=\"M142.588,-192.9465C127.9467,-181.0504 111.5474,-167.726 97.0215,-155.9237\"/>\n",
       "<polygon fill=\"#000000\" stroke=\"#000000\" points=\"99.1355,-153.1317 89.1673,-149.5422 94.7214,-158.5645 99.1355,-153.1317\"/>\n",
       "</g>\n",
       "<!-- 6 -->\n",
       "<g id=\"node7\" class=\"node\">\n",
       "<title>6</title>\n",
       "<polygon fill=\"#e58139\" stroke=\"#000000\" points=\"237.5,-149.5 131.5,-149.5 131.5,-96.5 237.5,-96.5 237.5,-149.5\"/>\n",
       "<text text-anchor=\"middle\" x=\"184.5\" y=\"-134.3\" font-family=\"Times,serif\" font-size=\"14.00\" fill=\"#000000\">samples = 1</text>\n",
       "<text text-anchor=\"middle\" x=\"184.5\" y=\"-119.3\" font-family=\"Times,serif\" font-size=\"14.00\" fill=\"#000000\">value = [1, 0, 0]</text>\n",
       "<text text-anchor=\"middle\" x=\"184.5\" y=\"-104.3\" font-family=\"Times,serif\" font-size=\"14.00\" fill=\"#000000\">class = 0</text>\n",
       "</g>\n",
       "<!-- 4&#45;&gt;6 -->\n",
       "<g id=\"edge6\" class=\"edge\">\n",
       "<title>4&#45;&gt;6</title>\n",
       "<path fill=\"none\" stroke=\"#000000\" d=\"M184.5,-192.9465C184.5,-182.2621 184.5,-170.4254 184.5,-159.5742\"/>\n",
       "<polygon fill=\"#000000\" stroke=\"#000000\" points=\"188.0001,-159.5421 184.5,-149.5422 181.0001,-159.5422 188.0001,-159.5421\"/>\n",
       "</g>\n",
       "<!-- 8 -->\n",
       "<g id=\"node9\" class=\"node\">\n",
       "<title>8</title>\n",
       "<polygon fill=\"#e58139\" stroke=\"#000000\" points=\"361.5,-149.5 255.5,-149.5 255.5,-96.5 361.5,-96.5 361.5,-149.5\"/>\n",
       "<text text-anchor=\"middle\" x=\"308.5\" y=\"-134.3\" font-family=\"Times,serif\" font-size=\"14.00\" fill=\"#000000\">samples = 3</text>\n",
       "<text text-anchor=\"middle\" x=\"308.5\" y=\"-119.3\" font-family=\"Times,serif\" font-size=\"14.00\" fill=\"#000000\">value = [3, 0, 0]</text>\n",
       "<text text-anchor=\"middle\" x=\"308.5\" y=\"-104.3\" font-family=\"Times,serif\" font-size=\"14.00\" fill=\"#000000\">class = 0</text>\n",
       "</g>\n",
       "<!-- 7&#45;&gt;8 -->\n",
       "<g id=\"edge8\" class=\"edge\">\n",
       "<title>7&#45;&gt;8</title>\n",
       "<path fill=\"none\" stroke=\"#000000\" d=\"M358.2696,-192.9465C350.2754,-181.7113 341.3746,-169.2021 333.3358,-157.9043\"/>\n",
       "<polygon fill=\"#000000\" stroke=\"#000000\" points=\"336.0351,-155.6609 327.3858,-149.5422 330.3316,-159.7192 336.0351,-155.6609\"/>\n",
       "</g>\n",
       "<!-- 9 -->\n",
       "<g id=\"node10\" class=\"node\">\n",
       "<title>9</title>\n",
       "<polygon fill=\"#8139e5\" fill-opacity=\"0.498039\" stroke=\"#000000\" points=\"513,-157 380,-157 380,-89 513,-89 513,-157\"/>\n",
       "<text text-anchor=\"middle\" x=\"446.5\" y=\"-141.8\" font-family=\"Times,serif\" font-size=\"14.00\" fill=\"#000000\">petal_length &lt;= 5.45</text>\n",
       "<text text-anchor=\"middle\" x=\"446.5\" y=\"-126.8\" font-family=\"Times,serif\" font-size=\"14.00\" fill=\"#000000\">samples = 3</text>\n",
       "<text text-anchor=\"middle\" x=\"446.5\" y=\"-111.8\" font-family=\"Times,serif\" font-size=\"14.00\" fill=\"#000000\">value = [1, 0, 2]</text>\n",
       "<text text-anchor=\"middle\" x=\"446.5\" y=\"-96.8\" font-family=\"Times,serif\" font-size=\"14.00\" fill=\"#000000\">class = 2</text>\n",
       "</g>\n",
       "<!-- 7&#45;&gt;9 -->\n",
       "<g id=\"edge9\" class=\"edge\">\n",
       "<title>7&#45;&gt;9</title>\n",
       "<path fill=\"none\" stroke=\"#000000\" d=\"M403.456,-192.9465C408.8155,-184.2373 414.6461,-174.7626 420.2353,-165.6801\"/>\n",
       "<polygon fill=\"#000000\" stroke=\"#000000\" points=\"423.2367,-167.481 425.4969,-157.13 417.2751,-163.8122 423.2367,-167.481\"/>\n",
       "</g>\n",
       "<!-- 10 -->\n",
       "<g id=\"node11\" class=\"node\">\n",
       "<title>10</title>\n",
       "<polygon fill=\"#8139e5\" stroke=\"#000000\" points=\"437.5,-53 331.5,-53 331.5,0 437.5,0 437.5,-53\"/>\n",
       "<text text-anchor=\"middle\" x=\"384.5\" y=\"-37.8\" font-family=\"Times,serif\" font-size=\"14.00\" fill=\"#000000\">samples = 2</text>\n",
       "<text text-anchor=\"middle\" x=\"384.5\" y=\"-22.8\" font-family=\"Times,serif\" font-size=\"14.00\" fill=\"#000000\">value = [0, 0, 2]</text>\n",
       "<text text-anchor=\"middle\" x=\"384.5\" y=\"-7.8\" font-family=\"Times,serif\" font-size=\"14.00\" fill=\"#000000\">class = 2</text>\n",
       "</g>\n",
       "<!-- 9&#45;&gt;10 -->\n",
       "<g id=\"edge10\" class=\"edge\">\n",
       "<title>9&#45;&gt;10</title>\n",
       "<path fill=\"none\" stroke=\"#000000\" d=\"M424.6411,-88.9777C418.9932,-80.187 412.9007,-70.7044 407.2104,-61.8477\"/>\n",
       "<polygon fill=\"#000000\" stroke=\"#000000\" points=\"410.0356,-59.7698 401.6856,-53.2485 404.1463,-63.5536 410.0356,-59.7698\"/>\n",
       "</g>\n",
       "<!-- 11 -->\n",
       "<g id=\"node12\" class=\"node\">\n",
       "<title>11</title>\n",
       "<polygon fill=\"#e58139\" stroke=\"#000000\" points=\"561.5,-53 455.5,-53 455.5,0 561.5,0 561.5,-53\"/>\n",
       "<text text-anchor=\"middle\" x=\"508.5\" y=\"-37.8\" font-family=\"Times,serif\" font-size=\"14.00\" fill=\"#000000\">samples = 1</text>\n",
       "<text text-anchor=\"middle\" x=\"508.5\" y=\"-22.8\" font-family=\"Times,serif\" font-size=\"14.00\" fill=\"#000000\">value = [1, 0, 0]</text>\n",
       "<text text-anchor=\"middle\" x=\"508.5\" y=\"-7.8\" font-family=\"Times,serif\" font-size=\"14.00\" fill=\"#000000\">class = 0</text>\n",
       "</g>\n",
       "<!-- 9&#45;&gt;11 -->\n",
       "<g id=\"edge11\" class=\"edge\">\n",
       "<title>9&#45;&gt;11</title>\n",
       "<path fill=\"none\" stroke=\"#000000\" d=\"M468.3589,-88.9777C474.0068,-80.187 480.0993,-70.7044 485.7896,-61.8477\"/>\n",
       "<polygon fill=\"#000000\" stroke=\"#000000\" points=\"488.8537,-63.5536 491.3144,-53.2485 482.9644,-59.7698 488.8537,-63.5536\"/>\n",
       "</g>\n",
       "<!-- 13 -->\n",
       "<g id=\"node14\" class=\"node\">\n",
       "<title>13</title>\n",
       "<polygon fill=\"#e58139\" fill-opacity=\"0.498039\" stroke=\"#000000\" points=\"652,-261 517,-261 517,-193 652,-193 652,-261\"/>\n",
       "<text text-anchor=\"middle\" x=\"584.5\" y=\"-245.8\" font-family=\"Times,serif\" font-size=\"14.00\" fill=\"#000000\">sepal_length &lt;= 5.95</text>\n",
       "<text text-anchor=\"middle\" x=\"584.5\" y=\"-230.8\" font-family=\"Times,serif\" font-size=\"14.00\" fill=\"#000000\">samples = 3</text>\n",
       "<text text-anchor=\"middle\" x=\"584.5\" y=\"-215.8\" font-family=\"Times,serif\" font-size=\"14.00\" fill=\"#000000\">value = [2, 0, 1]</text>\n",
       "<text text-anchor=\"middle\" x=\"584.5\" y=\"-200.8\" font-family=\"Times,serif\" font-size=\"14.00\" fill=\"#000000\">class = 0</text>\n",
       "</g>\n",
       "<!-- 12&#45;&gt;13 -->\n",
       "<g id=\"edge13\" class=\"edge\">\n",
       "<title>12&#45;&gt;13</title>\n",
       "<path fill=\"none\" stroke=\"#000000\" d=\"M584.5,-296.9465C584.5,-288.776 584.5,-279.9318 584.5,-271.3697\"/>\n",
       "<polygon fill=\"#000000\" stroke=\"#000000\" points=\"588.0001,-271.13 584.5,-261.13 581.0001,-271.13 588.0001,-271.13\"/>\n",
       "</g>\n",
       "<!-- 16 -->\n",
       "<g id=\"node17\" class=\"node\">\n",
       "<title>16</title>\n",
       "<polygon fill=\"#e58139\" stroke=\"#000000\" points=\"783,-253.5 670,-253.5 670,-200.5 783,-200.5 783,-253.5\"/>\n",
       "<text text-anchor=\"middle\" x=\"726.5\" y=\"-238.3\" font-family=\"Times,serif\" font-size=\"14.00\" fill=\"#000000\">samples = 43</text>\n",
       "<text text-anchor=\"middle\" x=\"726.5\" y=\"-223.3\" font-family=\"Times,serif\" font-size=\"14.00\" fill=\"#000000\">value = [43, 0, 0]</text>\n",
       "<text text-anchor=\"middle\" x=\"726.5\" y=\"-208.3\" font-family=\"Times,serif\" font-size=\"14.00\" fill=\"#000000\">class = 0</text>\n",
       "</g>\n",
       "<!-- 12&#45;&gt;16 -->\n",
       "<g id=\"edge16\" class=\"edge\">\n",
       "<title>12&#45;&gt;16</title>\n",
       "<path fill=\"none\" stroke=\"#000000\" d=\"M630.9961,-296.9465C647.3893,-284.9403 665.7689,-271.4791 681.9936,-259.5962\"/>\n",
       "<polygon fill=\"#000000\" stroke=\"#000000\" points=\"684.2601,-262.2746 690.2597,-253.5422 680.124,-256.6272 684.2601,-262.2746\"/>\n",
       "</g>\n",
       "<!-- 14 -->\n",
       "<g id=\"node15\" class=\"node\">\n",
       "<title>14</title>\n",
       "<polygon fill=\"#8139e5\" stroke=\"#000000\" points=\"637.5,-149.5 531.5,-149.5 531.5,-96.5 637.5,-96.5 637.5,-149.5\"/>\n",
       "<text text-anchor=\"middle\" x=\"584.5\" y=\"-134.3\" font-family=\"Times,serif\" font-size=\"14.00\" fill=\"#000000\">samples = 1</text>\n",
       "<text text-anchor=\"middle\" x=\"584.5\" y=\"-119.3\" font-family=\"Times,serif\" font-size=\"14.00\" fill=\"#000000\">value = [0, 0, 1]</text>\n",
       "<text text-anchor=\"middle\" x=\"584.5\" y=\"-104.3\" font-family=\"Times,serif\" font-size=\"14.00\" fill=\"#000000\">class = 2</text>\n",
       "</g>\n",
       "<!-- 13&#45;&gt;14 -->\n",
       "<g id=\"edge14\" class=\"edge\">\n",
       "<title>13&#45;&gt;14</title>\n",
       "<path fill=\"none\" stroke=\"#000000\" d=\"M584.5,-192.9465C584.5,-182.2621 584.5,-170.4254 584.5,-159.5742\"/>\n",
       "<polygon fill=\"#000000\" stroke=\"#000000\" points=\"588.0001,-159.5421 584.5,-149.5422 581.0001,-159.5422 588.0001,-159.5421\"/>\n",
       "</g>\n",
       "<!-- 15 -->\n",
       "<g id=\"node16\" class=\"node\">\n",
       "<title>15</title>\n",
       "<polygon fill=\"#e58139\" stroke=\"#000000\" points=\"761.5,-149.5 655.5,-149.5 655.5,-96.5 761.5,-96.5 761.5,-149.5\"/>\n",
       "<text text-anchor=\"middle\" x=\"708.5\" y=\"-134.3\" font-family=\"Times,serif\" font-size=\"14.00\" fill=\"#000000\">samples = 2</text>\n",
       "<text text-anchor=\"middle\" x=\"708.5\" y=\"-119.3\" font-family=\"Times,serif\" font-size=\"14.00\" fill=\"#000000\">value = [2, 0, 0]</text>\n",
       "<text text-anchor=\"middle\" x=\"708.5\" y=\"-104.3\" font-family=\"Times,serif\" font-size=\"14.00\" fill=\"#000000\">class = 0</text>\n",
       "</g>\n",
       "<!-- 13&#45;&gt;15 -->\n",
       "<g id=\"edge15\" class=\"edge\">\n",
       "<title>13&#45;&gt;15</title>\n",
       "<path fill=\"none\" stroke=\"#000000\" d=\"M625.1022,-192.9465C639.1547,-181.1606 654.8788,-167.9726 668.8535,-156.2519\"/>\n",
       "<polygon fill=\"#000000\" stroke=\"#000000\" points=\"671.4408,-158.65 676.8536,-149.5422 666.9425,-153.2866 671.4408,-158.65\"/>\n",
       "</g>\n",
       "</g>\n",
       "</svg>\n"
      ],
      "text/plain": [
       "<graphviz.files.Source at 0x7fa2d8058ba8>"
      ]
     },
     "execution_count": 171,
     "metadata": {},
     "output_type": "execute_result"
    }
   ],
   "source": [
    "import graphviz\n",
    "from sklearn.tree import export_graphviz\n",
    "\n",
    "tree = DecisionTreeClassifier(random_state=42)\n",
    "tree.fit(X, y)\n",
    "\n",
    "export_graphviz(tree, out_file=\"tree.dot\", class_names=[\"0\", \"1\", '2'],\n",
    "feature_names=X.columns.values, impurity=False, filled=True)\n",
    "\n",
    "with open(\"tree.dot\") as f:\n",
    "    dot_graph = f.read()\n",
    "\n",
    "graphviz.Source(dot_graph)"
   ]
  }
 ],
 "metadata": {
  "kernelspec": {
   "display_name": "Python 3",
   "language": "python",
   "name": "python3"
  },
  "language_info": {
   "codemirror_mode": {
    "name": "ipython",
    "version": 3
   },
   "file_extension": ".py",
   "mimetype": "text/x-python",
   "name": "python",
   "nbconvert_exporter": "python",
   "pygments_lexer": "ipython3",
   "version": "3.7.3"
  }
 },
 "nbformat": 4,
 "nbformat_minor": 2
}
