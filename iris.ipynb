{
 "cells": [
  {
   "cell_type": "code",
   "execution_count": 110,
   "metadata": {},
   "outputs": [],
   "source": [
    "import pandas as pd\n",
    "import matplotlib.pyplot as plt\n",
    "import numpy as np\n",
    "%matplotlib inline"
   ]
  },
  {
   "cell_type": "code",
   "execution_count": 92,
   "metadata": {},
   "outputs": [],
   "source": [
    "df = pd.read_csv('./iris.csv')"
   ]
  },
  {
   "cell_type": "code",
   "execution_count": 93,
   "metadata": {},
   "outputs": [
    {
     "name": "stdout",
     "output_type": "stream",
     "text": [
      "<class 'pandas.core.frame.DataFrame'>\n",
      "RangeIndex: 150 entries, 0 to 149\n",
      "Data columns (total 5 columns):\n",
      "sepal_length    150 non-null float64\n",
      "sepal_width     150 non-null float64\n",
      "petal_length    150 non-null float64\n",
      "petal_width     150 non-null float64\n",
      "species         150 non-null object\n",
      "dtypes: float64(4), object(1)\n",
      "memory usage: 5.9+ KB\n"
     ]
    }
   ],
   "source": [
    "df.info()"
   ]
  },
  {
   "cell_type": "markdown",
   "metadata": {},
   "source": [
    "No missing values"
   ]
  },
  {
   "cell_type": "code",
   "execution_count": 255,
   "metadata": {},
   "outputs": [
    {
     "data": {
      "text/html": [
       "<div>\n",
       "<style scoped>\n",
       "    .dataframe tbody tr th:only-of-type {\n",
       "        vertical-align: middle;\n",
       "    }\n",
       "\n",
       "    .dataframe tbody tr th {\n",
       "        vertical-align: top;\n",
       "    }\n",
       "\n",
       "    .dataframe thead th {\n",
       "        text-align: right;\n",
       "    }\n",
       "</style>\n",
       "<table border=\"1\" class=\"dataframe\">\n",
       "  <thead>\n",
       "    <tr style=\"text-align: right;\">\n",
       "      <th></th>\n",
       "      <th>sepal_length</th>\n",
       "      <th>sepal_width</th>\n",
       "      <th>petal_length</th>\n",
       "      <th>petal_width</th>\n",
       "      <th>species_id</th>\n",
       "    </tr>\n",
       "  </thead>\n",
       "  <tbody>\n",
       "    <tr>\n",
       "      <th>count</th>\n",
       "      <td>150.000000</td>\n",
       "      <td>150.000000</td>\n",
       "      <td>150.000000</td>\n",
       "      <td>150.000000</td>\n",
       "      <td>150.000000</td>\n",
       "    </tr>\n",
       "    <tr>\n",
       "      <th>mean</th>\n",
       "      <td>5.843333</td>\n",
       "      <td>3.054000</td>\n",
       "      <td>3.758667</td>\n",
       "      <td>1.198667</td>\n",
       "      <td>1.000000</td>\n",
       "    </tr>\n",
       "    <tr>\n",
       "      <th>std</th>\n",
       "      <td>0.828066</td>\n",
       "      <td>0.433594</td>\n",
       "      <td>1.764420</td>\n",
       "      <td>0.763161</td>\n",
       "      <td>0.819232</td>\n",
       "    </tr>\n",
       "    <tr>\n",
       "      <th>min</th>\n",
       "      <td>4.300000</td>\n",
       "      <td>2.000000</td>\n",
       "      <td>1.000000</td>\n",
       "      <td>0.100000</td>\n",
       "      <td>0.000000</td>\n",
       "    </tr>\n",
       "    <tr>\n",
       "      <th>25%</th>\n",
       "      <td>5.100000</td>\n",
       "      <td>2.800000</td>\n",
       "      <td>1.600000</td>\n",
       "      <td>0.300000</td>\n",
       "      <td>0.000000</td>\n",
       "    </tr>\n",
       "    <tr>\n",
       "      <th>50%</th>\n",
       "      <td>5.800000</td>\n",
       "      <td>3.000000</td>\n",
       "      <td>4.350000</td>\n",
       "      <td>1.300000</td>\n",
       "      <td>1.000000</td>\n",
       "    </tr>\n",
       "    <tr>\n",
       "      <th>75%</th>\n",
       "      <td>6.400000</td>\n",
       "      <td>3.300000</td>\n",
       "      <td>5.100000</td>\n",
       "      <td>1.800000</td>\n",
       "      <td>2.000000</td>\n",
       "    </tr>\n",
       "    <tr>\n",
       "      <th>max</th>\n",
       "      <td>7.900000</td>\n",
       "      <td>4.400000</td>\n",
       "      <td>6.900000</td>\n",
       "      <td>2.500000</td>\n",
       "      <td>2.000000</td>\n",
       "    </tr>\n",
       "  </tbody>\n",
       "</table>\n",
       "</div>"
      ],
      "text/plain": [
       "       sepal_length  sepal_width  petal_length  petal_width  species_id\n",
       "count    150.000000   150.000000    150.000000   150.000000  150.000000\n",
       "mean       5.843333     3.054000      3.758667     1.198667    1.000000\n",
       "std        0.828066     0.433594      1.764420     0.763161    0.819232\n",
       "min        4.300000     2.000000      1.000000     0.100000    0.000000\n",
       "25%        5.100000     2.800000      1.600000     0.300000    0.000000\n",
       "50%        5.800000     3.000000      4.350000     1.300000    1.000000\n",
       "75%        6.400000     3.300000      5.100000     1.800000    2.000000\n",
       "max        7.900000     4.400000      6.900000     2.500000    2.000000"
      ]
     },
     "execution_count": 255,
     "metadata": {},
     "output_type": "execute_result"
    }
   ],
   "source": [
    "df.describe()"
   ]
  },
  {
   "cell_type": "code",
   "execution_count": 94,
   "metadata": {},
   "outputs": [
    {
     "data": {
      "text/plain": [
       "virginica     50\n",
       "setosa        50\n",
       "versicolor    50\n",
       "Name: species, dtype: int64"
      ]
     },
     "execution_count": 94,
     "metadata": {},
     "output_type": "execute_result"
    }
   ],
   "source": [
    "df['species'].value_counts()"
   ]
  },
  {
   "cell_type": "markdown",
   "metadata": {},
   "source": [
    "The observations are equally distributed among the three classes, so the baseline accuracy is 1/3."
   ]
  },
  {
   "cell_type": "code",
   "execution_count": 303,
   "metadata": {},
   "outputs": [
    {
     "data": {
      "text/plain": [
       "<matplotlib.legend.Legend at 0x7fa2e116ad30>"
      ]
     },
     "execution_count": 303,
     "metadata": {},
     "output_type": "execute_result"
    },
    {
     "data": {
      "image/png": "[encoded data removed]",
      "text/plain": [
       "<Figure size 576x432 with 1 Axes>"
      ]
     },
     "metadata": {
      "needs_background": "light"
     },
     "output_type": "display_data"
    }
   ],
   "source": [
    "df['species_id'] = df['species'].map({ 'virginica': 0, 'setosa': 1, 'versicolor': 2 })\n",
    "\n",
    "fig, ax = plt.subplots(figsize=(8, 6))\n",
    "ax.set_xlabel('petal length (cm)')\n",
    "ax.set_ylabel('petal width (cm)')\n",
    "ax.set_title('petal length vs petal width')\n",
    "\n",
    "for species in ['virginica', 'setosa', 'versicolor']:\n",
    "    x = df[df['species'] == species]['petal_width']\n",
    "    y = df[df['species'] == species]['petal_length']\n",
    "    ax.scatter(x, y, label=species)\n",
    "\n",
    "plt.legend()"
   ]
  },
  {
   "cell_type": "code",
   "execution_count": 304,
   "metadata": {},
   "outputs": [
    {
     "data": {
      "text/plain": [
       "<matplotlib.legend.Legend at 0x7fa2d9141c50>"
      ]
     },
     "execution_count": 304,
     "metadata": {},
     "output_type": "execute_result"
    },
    {
     "data": {
      "image/png": "[encoded data removed]",
      "text/plain": [
       "<Figure size 576x432 with 1 Axes>"
      ]
     },
     "metadata": {
      "needs_background": "light"
     },
     "output_type": "display_data"
    }
   ],
   "source": [
    "fig, ax = plt.subplots(figsize=(8, 6))\n",
    "ax.set_xlabel('sepal length (cm)')\n",
    "ax.set_ylabel('sepal width (cm)')\n",
    "ax.set_title('sepal length vs sepal width')\n",
    "\n",
    "for species in ['virginica', 'setosa', 'versicolor']:\n",
    "    x = df[df['species'] == species]['sepal_width']\n",
    "    y = df[df['species'] == species]['sepal_length']\n",
    "    ax.scatter(x, y, label=species)\n",
    "\n",
    "plt.legend()"
   ]
  },
  {
   "cell_type": "markdown",
   "metadata": {},
   "source": [
    "### Train and evaluate using train, test, split"
   ]
  },
  {
   "cell_type": "code",
   "execution_count": 305,
   "metadata": {},
   "outputs": [
    {
     "name": "stdout",
     "output_type": "stream",
     "text": [
      "Accuracy on training set: 1.000\n",
      "Accuracy on test set: 1.000\n"
     ]
    }
   ],
   "source": [
    "from sklearn.model_selection import cross_val_score\n",
    "from sklearn.tree import DecisionTreeClassifier\n",
    "from sklearn.model_selection import train_test_split\n",
    "\n",
    "y = df['species']\n",
    "X = df.drop(columns=['species', 'species_id'])\n",
    "X_train, X_test, y_train, y_test = train_test_split(X, y, test_size=0.25, random_state=42)\n",
    "\n",
    "tree = DecisionTreeClassifier(random_state=42)\n",
    "tree.fit(X_train, y_train)\n",
    "\n",
    "print(\"Accuracy on training set: {:.3f}\".format(tree.score(X_train, y_train))) \n",
    "print(\"Accuracy on test set: {:.3f}\".format(tree.score(X_test, y_test)))"
   ]
  },
  {
   "cell_type": "code",
   "execution_count": 306,
   "metadata": {},
   "outputs": [
    {
     "name": "stdout",
     "output_type": "stream",
     "text": [
      "depth: 6\n"
     ]
    }
   ],
   "source": [
    "print('depth: {}'.format(tree.tree_.max_depth))"
   ]
  },
  {
   "cell_type": "markdown",
   "metadata": {},
   "source": [
    "### Train and evaluate using cross-validation"
   ]
  },
  {
   "cell_type": "code",
   "execution_count": 307,
   "metadata": {},
   "outputs": [
    {
     "name": "stdout",
     "output_type": "stream",
     "text": [
      "mean score: 0.9533333333333334\n",
      "score std: 0.03399346342395189\n"
     ]
    }
   ],
   "source": [
    "from sklearn.model_selection import cross_val_score\n",
    "\n",
    "tree = DecisionTreeClassifier(random_state=42)\n",
    "tree.fit(X, y)\n",
    "scores = cross_val_score(tree, X, y, cv=5)\n",
    "\n",
    "print(f'mean score: {scores.mean()}')\n",
    "print(f'score std: {scores.std()}')"
   ]
  },
  {
   "cell_type": "code",
   "execution_count": 308,
   "metadata": {},
   "outputs": [
    {
     "name": "stdout",
     "output_type": "stream",
     "text": [
      "depth: 5\n"
     ]
    }
   ],
   "source": [
    "print('depth: {}'.format(tree.tree_.max_depth))"
   ]
  },
  {
   "cell_type": "code",
   "execution_count": 311,
   "metadata": {},
   "outputs": [
    {
     "data": {
      "image/svg+xml": [
       "<?xml version=\"1.0\" encoding=\"UTF-8\" standalone=\"no\"?>\n",
       "<!DOCTYPE svg PUBLIC \"-//W3C//DTD SVG 1.1//EN\"\n",
       " \"http://www.w3.org/Graphics/SVG/1.1/DTD/svg11.dtd\">\n",
       "<!-- Generated by graphviz version 2.40.1 (20161225.0304)\n",
       " -->\n",
       "<!-- Title: Tree Pages: 1 -->\n",
       "<svg width=\"801pt\" height=\"581pt\"\n",
       " viewBox=\"0.00 0.00 801.00 581.00\" xmlns=\"http://www.w3.org/2000/svg\" xmlns:xlink=\"http://www.w3.org/1999/xlink\">\n",
       "<g id=\"graph0\" class=\"graph\" transform=\"scale(1 1) rotate(0) translate(4 577)\">\n",
       "<title>Tree</title>\n",
       "<polygon fill=\"#ffffff\" stroke=\"transparent\" points=\"-4,4 -4,-577 797,-577 797,4 -4,4\"/>\n",
       "<!-- 0 -->\n",
       "<g id=\"node1\" class=\"node\">\n",
       "<title>0</title>\n",
       "<polygon fill=\"transparent\" stroke=\"#000000\" points=\"488,-573 355,-573 355,-505 488,-505 488,-573\"/>\n",
       "<text text-anchor=\"middle\" x=\"421.5\" y=\"-557.8\" font-family=\"Times,serif\" font-size=\"14.00\" fill=\"#000000\">petal_length &lt;= 2.45</text>\n",
       "<text text-anchor=\"middle\" x=\"421.5\" y=\"-542.8\" font-family=\"Times,serif\" font-size=\"14.00\" fill=\"#000000\">samples = 150</text>\n",
       "<text text-anchor=\"middle\" x=\"421.5\" y=\"-527.8\" font-family=\"Times,serif\" font-size=\"14.00\" fill=\"#000000\">value = [50, 50, 50]</text>\n",
       "<text text-anchor=\"middle\" x=\"421.5\" y=\"-512.8\" font-family=\"Times,serif\" font-size=\"14.00\" fill=\"#000000\">class = setosa</text>\n",
       "</g>\n",
       "<!-- 1 -->\n",
       "<g id=\"node2\" class=\"node\">\n",
       "<title>1</title>\n",
       "<polygon fill=\"#e58139\" stroke=\"#000000\" points=\"408,-461.5 295,-461.5 295,-408.5 408,-408.5 408,-461.5\"/>\n",
       "<text text-anchor=\"middle\" x=\"351.5\" y=\"-446.3\" font-family=\"Times,serif\" font-size=\"14.00\" fill=\"#000000\">samples = 50</text>\n",
       "<text text-anchor=\"middle\" x=\"351.5\" y=\"-431.3\" font-family=\"Times,serif\" font-size=\"14.00\" fill=\"#000000\">value = [50, 0, 0]</text>\n",
       "<text text-anchor=\"middle\" x=\"351.5\" y=\"-416.3\" font-family=\"Times,serif\" font-size=\"14.00\" fill=\"#000000\">class = setosa</text>\n",
       "</g>\n",
       "<!-- 0&#45;&gt;1 -->\n",
       "<g id=\"edge1\" class=\"edge\">\n",
       "<title>0&#45;&gt;1</title>\n",
       "<path fill=\"none\" stroke=\"#000000\" d=\"M398.5794,-504.9465C391.0172,-493.7113 382.5976,-481.2021 374.9933,-469.9043\"/>\n",
       "<polygon fill=\"#000000\" stroke=\"#000000\" points=\"377.8523,-467.8837 369.3649,-461.5422 372.0452,-471.7924 377.8523,-467.8837\"/>\n",
       "<text text-anchor=\"middle\" x=\"364.5705\" y=\"-482.3781\" font-family=\"Times,serif\" font-size=\"14.00\" fill=\"#000000\">True</text>\n",
       "</g>\n",
       "<!-- 2 -->\n",
       "<g id=\"node3\" class=\"node\">\n",
       "<title>2</title>\n",
       "<polygon fill=\"transparent\" stroke=\"#000000\" points=\"556.5,-469 426.5,-469 426.5,-401 556.5,-401 556.5,-469\"/>\n",
       "<text text-anchor=\"middle\" x=\"491.5\" y=\"-453.8\" font-family=\"Times,serif\" font-size=\"14.00\" fill=\"#000000\">petal_width &lt;= 1.75</text>\n",
       "<text text-anchor=\"middle\" x=\"491.5\" y=\"-438.8\" font-family=\"Times,serif\" font-size=\"14.00\" fill=\"#000000\">samples = 100</text>\n",
       "<text text-anchor=\"middle\" x=\"491.5\" y=\"-423.8\" font-family=\"Times,serif\" font-size=\"14.00\" fill=\"#000000\">value = [0, 50, 50]</text>\n",
       "<text text-anchor=\"middle\" x=\"491.5\" y=\"-408.8\" font-family=\"Times,serif\" font-size=\"14.00\" fill=\"#000000\">class = versicolor</text>\n",
       "</g>\n",
       "<!-- 0&#45;&gt;2 -->\n",
       "<g id=\"edge2\" class=\"edge\">\n",
       "<title>0&#45;&gt;2</title>\n",
       "<path fill=\"none\" stroke=\"#000000\" d=\"M444.4206,-504.9465C450.2826,-496.2373 456.6598,-486.7626 462.773,-477.6801\"/>\n",
       "<polygon fill=\"#000000\" stroke=\"#000000\" points=\"465.8476,-479.3802 468.5279,-469.13 460.0405,-475.4716 465.8476,-479.3802\"/>\n",
       "<text text-anchor=\"middle\" x=\"473.3223\" y=\"-489.966\" font-family=\"Times,serif\" font-size=\"14.00\" fill=\"#000000\">False</text>\n",
       "</g>\n",
       "<!-- 3 -->\n",
       "<g id=\"node4\" class=\"node\">\n",
       "<title>3</title>\n",
       "<polygon fill=\"#39e581\" fill-opacity=\"0.898039\" stroke=\"#000000\" points=\"456,-365 323,-365 323,-297 456,-297 456,-365\"/>\n",
       "<text text-anchor=\"middle\" x=\"389.5\" y=\"-349.8\" font-family=\"Times,serif\" font-size=\"14.00\" fill=\"#000000\">petal_length &lt;= 4.95</text>\n",
       "<text text-anchor=\"middle\" x=\"389.5\" y=\"-334.8\" font-family=\"Times,serif\" font-size=\"14.00\" fill=\"#000000\">samples = 54</text>\n",
       "<text text-anchor=\"middle\" x=\"389.5\" y=\"-319.8\" font-family=\"Times,serif\" font-size=\"14.00\" fill=\"#000000\">value = [0, 49, 5]</text>\n",
       "<text text-anchor=\"middle\" x=\"389.5\" y=\"-304.8\" font-family=\"Times,serif\" font-size=\"14.00\" fill=\"#000000\">class = versicolor</text>\n",
       "</g>\n",
       "<!-- 2&#45;&gt;3 -->\n",
       "<g id=\"edge3\" class=\"edge\">\n",
       "<title>2&#45;&gt;3</title>\n",
       "<path fill=\"none\" stroke=\"#000000\" d=\"M458.1014,-400.9465C449.1194,-391.7884 439.3072,-381.7838 429.985,-372.2788\"/>\n",
       "<polygon fill=\"#000000\" stroke=\"#000000\" points=\"432.4746,-369.8187 422.9737,-365.13 427.477,-374.7201 432.4746,-369.8187\"/>\n",
       "</g>\n",
       "<!-- 12 -->\n",
       "<g id=\"node13\" class=\"node\">\n",
       "<title>12</title>\n",
       "<polygon fill=\"#8139e5\" fill-opacity=\"0.976471\" stroke=\"#000000\" points=\"661,-365 528,-365 528,-297 661,-297 661,-365\"/>\n",
       "<text text-anchor=\"middle\" x=\"594.5\" y=\"-349.8\" font-family=\"Times,serif\" font-size=\"14.00\" fill=\"#000000\">petal_length &lt;= 4.85</text>\n",
       "<text text-anchor=\"middle\" x=\"594.5\" y=\"-334.8\" font-family=\"Times,serif\" font-size=\"14.00\" fill=\"#000000\">samples = 46</text>\n",
       "<text text-anchor=\"middle\" x=\"594.5\" y=\"-319.8\" font-family=\"Times,serif\" font-size=\"14.00\" fill=\"#000000\">value = [0, 1, 45]</text>\n",
       "<text text-anchor=\"middle\" x=\"594.5\" y=\"-304.8\" font-family=\"Times,serif\" font-size=\"14.00\" fill=\"#000000\">class = virginica</text>\n",
       "</g>\n",
       "<!-- 2&#45;&gt;12 -->\n",
       "<g id=\"edge12\" class=\"edge\">\n",
       "<title>2&#45;&gt;12</title>\n",
       "<path fill=\"none\" stroke=\"#000000\" d=\"M525.2261,-400.9465C534.2961,-391.7884 544.2045,-381.7838 553.6181,-372.2788\"/>\n",
       "<polygon fill=\"#000000\" stroke=\"#000000\" points=\"556.1481,-374.6981 560.6982,-365.13 551.1745,-369.7723 556.1481,-374.6981\"/>\n",
       "</g>\n",
       "<!-- 4 -->\n",
       "<g id=\"node5\" class=\"node\">\n",
       "<title>4</title>\n",
       "<polygon fill=\"#39e581\" fill-opacity=\"0.980392\" stroke=\"#000000\" points=\"252.5,-261 122.5,-261 122.5,-193 252.5,-193 252.5,-261\"/>\n",
       "<text text-anchor=\"middle\" x=\"187.5\" y=\"-245.8\" font-family=\"Times,serif\" font-size=\"14.00\" fill=\"#000000\">petal_width &lt;= 1.65</text>\n",
       "<text text-anchor=\"middle\" x=\"187.5\" y=\"-230.8\" font-family=\"Times,serif\" font-size=\"14.00\" fill=\"#000000\">samples = 48</text>\n",
       "<text text-anchor=\"middle\" x=\"187.5\" y=\"-215.8\" font-family=\"Times,serif\" font-size=\"14.00\" fill=\"#000000\">value = [0, 47, 1]</text>\n",
       "<text text-anchor=\"middle\" x=\"187.5\" y=\"-200.8\" font-family=\"Times,serif\" font-size=\"14.00\" fill=\"#000000\">class = versicolor</text>\n",
       "</g>\n",
       "<!-- 3&#45;&gt;4 -->\n",
       "<g id=\"edge4\" class=\"edge\">\n",
       "<title>3&#45;&gt;4</title>\n",
       "<path fill=\"none\" stroke=\"#000000\" d=\"M323.3576,-296.9465C303.7009,-286.8262 282.0364,-275.6722 261.8924,-265.301\"/>\n",
       "<polygon fill=\"#000000\" stroke=\"#000000\" points=\"263.2497,-262.0632 252.7567,-260.5975 260.0454,-268.2868 263.2497,-262.0632\"/>\n",
       "</g>\n",
       "<!-- 7 -->\n",
       "<g id=\"node8\" class=\"node\">\n",
       "<title>7</title>\n",
       "<polygon fill=\"#8139e5\" fill-opacity=\"0.498039\" stroke=\"#000000\" points=\"454.5,-261 324.5,-261 324.5,-193 454.5,-193 454.5,-261\"/>\n",
       "<text text-anchor=\"middle\" x=\"389.5\" y=\"-245.8\" font-family=\"Times,serif\" font-size=\"14.00\" fill=\"#000000\">petal_width &lt;= 1.55</text>\n",
       "<text text-anchor=\"middle\" x=\"389.5\" y=\"-230.8\" font-family=\"Times,serif\" font-size=\"14.00\" fill=\"#000000\">samples = 6</text>\n",
       "<text text-anchor=\"middle\" x=\"389.5\" y=\"-215.8\" font-family=\"Times,serif\" font-size=\"14.00\" fill=\"#000000\">value = [0, 2, 4]</text>\n",
       "<text text-anchor=\"middle\" x=\"389.5\" y=\"-200.8\" font-family=\"Times,serif\" font-size=\"14.00\" fill=\"#000000\">class = virginica</text>\n",
       "</g>\n",
       "<!-- 3&#45;&gt;7 -->\n",
       "<g id=\"edge7\" class=\"edge\">\n",
       "<title>3&#45;&gt;7</title>\n",
       "<path fill=\"none\" stroke=\"#000000\" d=\"M389.5,-296.9465C389.5,-288.776 389.5,-279.9318 389.5,-271.3697\"/>\n",
       "<polygon fill=\"#000000\" stroke=\"#000000\" points=\"393.0001,-271.13 389.5,-261.13 386.0001,-271.13 393.0001,-271.13\"/>\n",
       "</g>\n",
       "<!-- 5 -->\n",
       "<g id=\"node6\" class=\"node\">\n",
       "<title>5</title>\n",
       "<polygon fill=\"#39e581\" stroke=\"#000000\" points=\"115,-149.5 0,-149.5 0,-96.5 115,-96.5 115,-149.5\"/>\n",
       "<text text-anchor=\"middle\" x=\"57.5\" y=\"-134.3\" font-family=\"Times,serif\" font-size=\"14.00\" fill=\"#000000\">samples = 47</text>\n",
       "<text text-anchor=\"middle\" x=\"57.5\" y=\"-119.3\" font-family=\"Times,serif\" font-size=\"14.00\" fill=\"#000000\">value = [0, 47, 0]</text>\n",
       "<text text-anchor=\"middle\" x=\"57.5\" y=\"-104.3\" font-family=\"Times,serif\" font-size=\"14.00\" fill=\"#000000\">class = versicolor</text>\n",
       "</g>\n",
       "<!-- 4&#45;&gt;5 -->\n",
       "<g id=\"edge5\" class=\"edge\">\n",
       "<title>4&#45;&gt;5</title>\n",
       "<path fill=\"none\" stroke=\"#000000\" d=\"M144.9331,-192.9465C130.063,-181.0504 113.4075,-167.726 98.6546,-155.9237\"/>\n",
       "<polygon fill=\"#000000\" stroke=\"#000000\" points=\"100.6729,-153.0561 90.6777,-149.5422 96.3,-158.5222 100.6729,-153.0561\"/>\n",
       "</g>\n",
       "<!-- 6 -->\n",
       "<g id=\"node7\" class=\"node\">\n",
       "<title>6</title>\n",
       "<polygon fill=\"#8139e5\" stroke=\"#000000\" points=\"241.5,-149.5 133.5,-149.5 133.5,-96.5 241.5,-96.5 241.5,-149.5\"/>\n",
       "<text text-anchor=\"middle\" x=\"187.5\" y=\"-134.3\" font-family=\"Times,serif\" font-size=\"14.00\" fill=\"#000000\">samples = 1</text>\n",
       "<text text-anchor=\"middle\" x=\"187.5\" y=\"-119.3\" font-family=\"Times,serif\" font-size=\"14.00\" fill=\"#000000\">value = [0, 0, 1]</text>\n",
       "<text text-anchor=\"middle\" x=\"187.5\" y=\"-104.3\" font-family=\"Times,serif\" font-size=\"14.00\" fill=\"#000000\">class = virginica</text>\n",
       "</g>\n",
       "<!-- 4&#45;&gt;6 -->\n",
       "<g id=\"edge6\" class=\"edge\">\n",
       "<title>4&#45;&gt;6</title>\n",
       "<path fill=\"none\" stroke=\"#000000\" d=\"M187.5,-192.9465C187.5,-182.2621 187.5,-170.4254 187.5,-159.5742\"/>\n",
       "<polygon fill=\"#000000\" stroke=\"#000000\" points=\"191.0001,-159.5421 187.5,-149.5422 184.0001,-159.5422 191.0001,-159.5421\"/>\n",
       "</g>\n",
       "<!-- 8 -->\n",
       "<g id=\"node9\" class=\"node\">\n",
       "<title>8</title>\n",
       "<polygon fill=\"#8139e5\" stroke=\"#000000\" points=\"367.5,-149.5 259.5,-149.5 259.5,-96.5 367.5,-96.5 367.5,-149.5\"/>\n",
       "<text text-anchor=\"middle\" x=\"313.5\" y=\"-134.3\" font-family=\"Times,serif\" font-size=\"14.00\" fill=\"#000000\">samples = 3</text>\n",
       "<text text-anchor=\"middle\" x=\"313.5\" y=\"-119.3\" font-family=\"Times,serif\" font-size=\"14.00\" fill=\"#000000\">value = [0, 0, 3]</text>\n",
       "<text text-anchor=\"middle\" x=\"313.5\" y=\"-104.3\" font-family=\"Times,serif\" font-size=\"14.00\" fill=\"#000000\">class = virginica</text>\n",
       "</g>\n",
       "<!-- 7&#45;&gt;8 -->\n",
       "<g id=\"edge8\" class=\"edge\">\n",
       "<title>7&#45;&gt;8</title>\n",
       "<path fill=\"none\" stroke=\"#000000\" d=\"M364.6148,-192.9465C356.4044,-181.7113 347.2631,-169.2021 339.007,-157.9043\"/>\n",
       "<polygon fill=\"#000000\" stroke=\"#000000\" points=\"341.6223,-155.551 332.8962,-149.5422 335.9705,-159.6812 341.6223,-155.551\"/>\n",
       "</g>\n",
       "<!-- 9 -->\n",
       "<g id=\"node10\" class=\"node\">\n",
       "<title>9</title>\n",
       "<polygon fill=\"#39e581\" fill-opacity=\"0.498039\" stroke=\"#000000\" points=\"519,-157 386,-157 386,-89 519,-89 519,-157\"/>\n",
       "<text text-anchor=\"middle\" x=\"452.5\" y=\"-141.8\" font-family=\"Times,serif\" font-size=\"14.00\" fill=\"#000000\">petal_length &lt;= 5.45</text>\n",
       "<text text-anchor=\"middle\" x=\"452.5\" y=\"-126.8\" font-family=\"Times,serif\" font-size=\"14.00\" fill=\"#000000\">samples = 3</text>\n",
       "<text text-anchor=\"middle\" x=\"452.5\" y=\"-111.8\" font-family=\"Times,serif\" font-size=\"14.00\" fill=\"#000000\">value = [0, 2, 1]</text>\n",
       "<text text-anchor=\"middle\" x=\"452.5\" y=\"-96.8\" font-family=\"Times,serif\" font-size=\"14.00\" fill=\"#000000\">class = versicolor</text>\n",
       "</g>\n",
       "<!-- 7&#45;&gt;9 -->\n",
       "<g id=\"edge9\" class=\"edge\">\n",
       "<title>7&#45;&gt;9</title>\n",
       "<path fill=\"none\" stroke=\"#000000\" d=\"M410.1286,-192.9465C415.3499,-184.3271 421.0255,-174.9579 426.4755,-165.9611\"/>\n",
       "<polygon fill=\"#000000\" stroke=\"#000000\" points=\"429.6374,-167.4965 431.8251,-157.13 423.6503,-163.8697 429.6374,-167.4965\"/>\n",
       "</g>\n",
       "<!-- 10 -->\n",
       "<g id=\"node11\" class=\"node\">\n",
       "<title>10</title>\n",
       "<polygon fill=\"#39e581\" stroke=\"#000000\" points=\"445,-53 330,-53 330,0 445,0 445,-53\"/>\n",
       "<text text-anchor=\"middle\" x=\"387.5\" y=\"-37.8\" font-family=\"Times,serif\" font-size=\"14.00\" fill=\"#000000\">samples = 2</text>\n",
       "<text text-anchor=\"middle\" x=\"387.5\" y=\"-22.8\" font-family=\"Times,serif\" font-size=\"14.00\" fill=\"#000000\">value = [0, 2, 0]</text>\n",
       "<text text-anchor=\"middle\" x=\"387.5\" y=\"-7.8\" font-family=\"Times,serif\" font-size=\"14.00\" fill=\"#000000\">class = versicolor</text>\n",
       "</g>\n",
       "<!-- 9&#45;&gt;10 -->\n",
       "<g id=\"edge10\" class=\"edge\">\n",
       "<title>9&#45;&gt;10</title>\n",
       "<path fill=\"none\" stroke=\"#000000\" d=\"M429.5834,-88.9777C423.6006,-80.0954 417.1418,-70.5067 411.123,-61.5711\"/>\n",
       "<polygon fill=\"#000000\" stroke=\"#000000\" points=\"414.0067,-59.5871 405.5171,-53.2485 408.2009,-63.4978 414.0067,-59.5871\"/>\n",
       "</g>\n",
       "<!-- 11 -->\n",
       "<g id=\"node12\" class=\"node\">\n",
       "<title>11</title>\n",
       "<polygon fill=\"#8139e5\" stroke=\"#000000\" points=\"571.5,-53 463.5,-53 463.5,0 571.5,0 571.5,-53\"/>\n",
       "<text text-anchor=\"middle\" x=\"517.5\" y=\"-37.8\" font-family=\"Times,serif\" font-size=\"14.00\" fill=\"#000000\">samples = 1</text>\n",
       "<text text-anchor=\"middle\" x=\"517.5\" y=\"-22.8\" font-family=\"Times,serif\" font-size=\"14.00\" fill=\"#000000\">value = [0, 0, 1]</text>\n",
       "<text text-anchor=\"middle\" x=\"517.5\" y=\"-7.8\" font-family=\"Times,serif\" font-size=\"14.00\" fill=\"#000000\">class = virginica</text>\n",
       "</g>\n",
       "<!-- 9&#45;&gt;11 -->\n",
       "<g id=\"edge11\" class=\"edge\">\n",
       "<title>9&#45;&gt;11</title>\n",
       "<path fill=\"none\" stroke=\"#000000\" d=\"M475.4166,-88.9777C481.3994,-80.0954 487.8582,-70.5067 493.877,-61.5711\"/>\n",
       "<polygon fill=\"#000000\" stroke=\"#000000\" points=\"496.7991,-63.4978 499.4829,-53.2485 490.9933,-59.5871 496.7991,-63.4978\"/>\n",
       "</g>\n",
       "<!-- 13 -->\n",
       "<g id=\"node14\" class=\"node\">\n",
       "<title>13</title>\n",
       "<polygon fill=\"#8139e5\" fill-opacity=\"0.498039\" stroke=\"#000000\" points=\"662,-261 527,-261 527,-193 662,-193 662,-261\"/>\n",
       "<text text-anchor=\"middle\" x=\"594.5\" y=\"-245.8\" font-family=\"Times,serif\" font-size=\"14.00\" fill=\"#000000\">sepal_length &lt;= 5.95</text>\n",
       "<text text-anchor=\"middle\" x=\"594.5\" y=\"-230.8\" font-family=\"Times,serif\" font-size=\"14.00\" fill=\"#000000\">samples = 3</text>\n",
       "<text text-anchor=\"middle\" x=\"594.5\" y=\"-215.8\" font-family=\"Times,serif\" font-size=\"14.00\" fill=\"#000000\">value = [0, 1, 2]</text>\n",
       "<text text-anchor=\"middle\" x=\"594.5\" y=\"-200.8\" font-family=\"Times,serif\" font-size=\"14.00\" fill=\"#000000\">class = virginica</text>\n",
       "</g>\n",
       "<!-- 12&#45;&gt;13 -->\n",
       "<g id=\"edge13\" class=\"edge\">\n",
       "<title>12&#45;&gt;13</title>\n",
       "<path fill=\"none\" stroke=\"#000000\" d=\"M594.5,-296.9465C594.5,-288.776 594.5,-279.9318 594.5,-271.3697\"/>\n",
       "<polygon fill=\"#000000\" stroke=\"#000000\" points=\"598.0001,-271.13 594.5,-261.13 591.0001,-271.13 598.0001,-271.13\"/>\n",
       "</g>\n",
       "<!-- 16 -->\n",
       "<g id=\"node17\" class=\"node\">\n",
       "<title>16</title>\n",
       "<polygon fill=\"#8139e5\" stroke=\"#000000\" points=\"793,-253.5 680,-253.5 680,-200.5 793,-200.5 793,-253.5\"/>\n",
       "<text text-anchor=\"middle\" x=\"736.5\" y=\"-238.3\" font-family=\"Times,serif\" font-size=\"14.00\" fill=\"#000000\">samples = 43</text>\n",
       "<text text-anchor=\"middle\" x=\"736.5\" y=\"-223.3\" font-family=\"Times,serif\" font-size=\"14.00\" fill=\"#000000\">value = [0, 0, 43]</text>\n",
       "<text text-anchor=\"middle\" x=\"736.5\" y=\"-208.3\" font-family=\"Times,serif\" font-size=\"14.00\" fill=\"#000000\">class = virginica</text>\n",
       "</g>\n",
       "<!-- 12&#45;&gt;16 -->\n",
       "<g id=\"edge16\" class=\"edge\">\n",
       "<title>12&#45;&gt;16</title>\n",
       "<path fill=\"none\" stroke=\"#000000\" d=\"M640.9961,-296.9465C657.3893,-284.9403 675.7689,-271.4791 691.9936,-259.5962\"/>\n",
       "<polygon fill=\"#000000\" stroke=\"#000000\" points=\"694.2601,-262.2746 700.2597,-253.5422 690.124,-256.6272 694.2601,-262.2746\"/>\n",
       "</g>\n",
       "<!-- 14 -->\n",
       "<g id=\"node15\" class=\"node\">\n",
       "<title>14</title>\n",
       "<polygon fill=\"#39e581\" stroke=\"#000000\" points=\"652,-149.5 537,-149.5 537,-96.5 652,-96.5 652,-149.5\"/>\n",
       "<text text-anchor=\"middle\" x=\"594.5\" y=\"-134.3\" font-family=\"Times,serif\" font-size=\"14.00\" fill=\"#000000\">samples = 1</text>\n",
       "<text text-anchor=\"middle\" x=\"594.5\" y=\"-119.3\" font-family=\"Times,serif\" font-size=\"14.00\" fill=\"#000000\">value = [0, 1, 0]</text>\n",
       "<text text-anchor=\"middle\" x=\"594.5\" y=\"-104.3\" font-family=\"Times,serif\" font-size=\"14.00\" fill=\"#000000\">class = versicolor</text>\n",
       "</g>\n",
       "<!-- 13&#45;&gt;14 -->\n",
       "<g id=\"edge14\" class=\"edge\">\n",
       "<title>13&#45;&gt;14</title>\n",
       "<path fill=\"none\" stroke=\"#000000\" d=\"M594.5,-192.9465C594.5,-182.2621 594.5,-170.4254 594.5,-159.5742\"/>\n",
       "<polygon fill=\"#000000\" stroke=\"#000000\" points=\"598.0001,-159.5421 594.5,-149.5422 591.0001,-159.5422 598.0001,-159.5421\"/>\n",
       "</g>\n",
       "<!-- 15 -->\n",
       "<g id=\"node16\" class=\"node\">\n",
       "<title>15</title>\n",
       "<polygon fill=\"#8139e5\" stroke=\"#000000\" points=\"778.5,-149.5 670.5,-149.5 670.5,-96.5 778.5,-96.5 778.5,-149.5\"/>\n",
       "<text text-anchor=\"middle\" x=\"724.5\" y=\"-134.3\" font-family=\"Times,serif\" font-size=\"14.00\" fill=\"#000000\">samples = 2</text>\n",
       "<text text-anchor=\"middle\" x=\"724.5\" y=\"-119.3\" font-family=\"Times,serif\" font-size=\"14.00\" fill=\"#000000\">value = [0, 0, 2]</text>\n",
       "<text text-anchor=\"middle\" x=\"724.5\" y=\"-104.3\" font-family=\"Times,serif\" font-size=\"14.00\" fill=\"#000000\">class = virginica</text>\n",
       "</g>\n",
       "<!-- 13&#45;&gt;15 -->\n",
       "<g id=\"edge15\" class=\"edge\">\n",
       "<title>13&#45;&gt;15</title>\n",
       "<path fill=\"none\" stroke=\"#000000\" d=\"M637.0669,-192.9465C651.937,-181.0504 668.5925,-167.726 683.3454,-155.9237\"/>\n",
       "<polygon fill=\"#000000\" stroke=\"#000000\" points=\"685.7,-158.5222 691.3223,-149.5422 681.3271,-153.0561 685.7,-158.5222\"/>\n",
       "</g>\n",
       "</g>\n",
       "</svg>\n"
      ],
      "text/plain": [
       "<graphviz.files.Source at 0x7fa3291ed278>"
      ]
     },
     "execution_count": 311,
     "metadata": {},
     "output_type": "execute_result"
    }
   ],
   "source": [
    "import graphviz\n",
    "from sklearn.tree import export_graphviz\n",
    "\n",
    "tree = DecisionTreeClassifier(random_state=42)\n",
    "tree.fit(X, y)\n",
    "\n",
    "export_graphviz(tree, \n",
    "                out_file=\"tree.dot\", \n",
    "                class_names=df['species'].unique(),\n",
    "                feature_names=X.columns.values, \n",
    "                impurity=False, \n",
    "                filled=True)\n",
    "\n",
    "with open(\"tree.dot\") as f:\n",
    "    dot_graph = f.read()\n",
    "\n",
    "graphviz.Source(dot_graph)"
   ]
  },
  {
   "cell_type": "markdown",
   "metadata": {},
   "source": [
    "The tree has 10 leaves."
   ]
  },
  {
   "cell_type": "code",
   "execution_count": 312,
   "metadata": {},
   "outputs": [
    {
     "data": {
      "text/html": [
       "<div>\n",
       "<style scoped>\n",
       "    .dataframe tbody tr th:only-of-type {\n",
       "        vertical-align: middle;\n",
       "    }\n",
       "\n",
       "    .dataframe tbody tr th {\n",
       "        vertical-align: top;\n",
       "    }\n",
       "\n",
       "    .dataframe thead th {\n",
       "        text-align: right;\n",
       "    }\n",
       "</style>\n",
       "<table border=\"1\" class=\"dataframe\">\n",
       "  <thead>\n",
       "    <tr style=\"text-align: right;\">\n",
       "      <th></th>\n",
       "      <th>importance</th>\n",
       "    </tr>\n",
       "  </thead>\n",
       "  <tbody>\n",
       "    <tr>\n",
       "      <th>sepal_length</th>\n",
       "      <td>0.013333</td>\n",
       "    </tr>\n",
       "    <tr>\n",
       "      <th>sepal_width</th>\n",
       "      <td>0.000000</td>\n",
       "    </tr>\n",
       "    <tr>\n",
       "      <th>petal_length</th>\n",
       "      <td>0.564056</td>\n",
       "    </tr>\n",
       "    <tr>\n",
       "      <th>petal_width</th>\n",
       "      <td>0.422611</td>\n",
       "    </tr>\n",
       "  </tbody>\n",
       "</table>\n",
       "</div>"
      ],
      "text/plain": [
       "              importance\n",
       "sepal_length    0.013333\n",
       "sepal_width     0.000000\n",
       "petal_length    0.564056\n",
       "petal_width     0.422611"
      ]
     },
     "execution_count": 312,
     "metadata": {},
     "output_type": "execute_result"
    }
   ],
   "source": [
    "# gini importances\n",
    "importances = pd.DataFrame(tree.feature_importances_, X.columns.values, columns=['importance'])\n",
    "importances"
   ]
  },
  {
   "cell_type": "markdown",
   "metadata": {},
   "source": [
    "# Reducing overfitting"
   ]
  },
  {
   "cell_type": "markdown",
   "metadata": {},
   "source": [
    "## Stopping by setting a maximum depth"
   ]
  },
  {
   "cell_type": "markdown",
   "metadata": {},
   "source": [
    "### max_depth = 4"
   ]
  },
  {
   "cell_type": "code",
   "execution_count": 313,
   "metadata": {},
   "outputs": [
    {
     "name": "stdout",
     "output_type": "stream",
     "text": [
      "Accuracy on training set: 0.991\n",
      "Accuracy on test set: 1.000\n",
      "Mean cv score: 0.9533333333333334\n",
      "cv score std: 0.03399346342395189\n"
     ]
    }
   ],
   "source": [
    "tree = DecisionTreeClassifier(random_state=42, max_depth=4)\n",
    "tree.fit(X, y)\n",
    "\n",
    "cv_scores = cross_val_score(tree, X, y, cv=5)\n",
    "\n",
    "print('Accuracy on training set: {:.3f}'.format(tree.score(X_train, y_train))) \n",
    "print('Accuracy on test set: {:.3f}'.format(tree.score(X_test, y_test)))\n",
    "print('Mean cv score: {}'.format(cv_scores.mean()))\n",
    "print('cv score std: {}'.format(cv_scores.std()))"
   ]
  },
  {
   "cell_type": "markdown",
   "metadata": {},
   "source": [
    "Increased score by 0.0067%"
   ]
  },
  {
   "cell_type": "markdown",
   "metadata": {},
   "source": [
    "### max_depth = 3"
   ]
  },
  {
   "cell_type": "code",
   "execution_count": 314,
   "metadata": {},
   "outputs": [
    {
     "name": "stdout",
     "output_type": "stream",
     "text": [
      "Accuracy on training set: 0.964\n",
      "Accuracy on test set: 1.000\n",
      "Mean cv score: 0.9733333333333334\n",
      "cv score std: 0.02494438257849294\n"
     ]
    }
   ],
   "source": [
    "tree = DecisionTreeClassifier(random_state=42, max_depth=3)\n",
    "tree.fit(X, y)\n",
    "\n",
    "cv_scores = cross_val_score(tree, X, y, cv=5)\n",
    "\n",
    "print('Accuracy on training set: {:.3f}'.format(tree.score(X_train, y_train))) \n",
    "print('Accuracy on test set: {:.3f}'.format(tree.score(X_test, y_test)))\n",
    "print('Mean cv score: {}'.format(cv_scores.mean()))\n",
    "print('cv score std: {}'.format(cv_scores.std()))"
   ]
  },
  {
   "cell_type": "markdown",
   "metadata": {},
   "source": [
    "Score is the same as when max_depth = 5"
   ]
  },
  {
   "cell_type": "markdown",
   "metadata": {},
   "source": [
    "### Helpers functions"
   ]
  },
  {
   "cell_type": "code",
   "execution_count": 315,
   "metadata": {},
   "outputs": [],
   "source": [
    "# train and evaluate the model using passed in kargs\n",
    "def train_tree(**kargs):\n",
    "    tree = DecisionTreeClassifier(**kargs)\n",
    "    tree.fit(X, y)\n",
    "    return {\n",
    "        'train_set_score': tree.score(X_train, y_train),\n",
    "        'test_set_score': tree.score(X_test, y_test),\n",
    "        'cv_scores': cross_val_score(tree, X, y, cv=5)\n",
    "    }\n",
    "\n",
    "def print_scores(scores):\n",
    "    print(f\"Accuracy on training set: {scores['train_set_score']}\")\n",
    "    print(f\"Accuracy on test set: {scores['test_set_score']}\")\n",
    "    print(f\"Mean cv score: {scores['cv_scores'].mean()}\")\n",
    "    print(f\"cv score std: {scores['cv_scores'].std()}\") "
   ]
  },
  {
   "cell_type": "markdown",
   "metadata": {},
   "source": [
    "## Stopping by setting maximum leaves"
   ]
  },
  {
   "cell_type": "code",
   "execution_count": 321,
   "metadata": {},
   "outputs": [
    {
     "name": "stdout",
     "output_type": "stream",
     "text": [
      "max_leaf_nodes = 10\n",
      "Accuracy on training set: 1.0\n",
      "Accuracy on test set: 1.0\n",
      "Mean cv score: 0.9600000000000002\n",
      "cv score std: 0.03265986323710903\n",
      "\n",
      "\n",
      "max_leaf_nodes = 9\n",
      "Accuracy on training set: 1.0\n",
      "Accuracy on test set: 1.0\n",
      "Mean cv score: 0.9600000000000002\n",
      "cv score std: 0.03265986323710903\n",
      "\n",
      "\n",
      "max_leaf_nodes = 8\n",
      "Accuracy on training set: 0.9910714285714286\n",
      "Accuracy on test set: 1.0\n",
      "Mean cv score: 0.9600000000000002\n",
      "cv score std: 0.03265986323710903\n",
      "\n",
      "\n",
      "max_leaf_nodes = 7\n",
      "Accuracy on training set: 0.9910714285714286\n",
      "Accuracy on test set: 1.0\n",
      "Mean cv score: 0.9666666666666668\n",
      "cv score std: 0.036514837167011066\n",
      "\n",
      "\n",
      "max_leaf_nodes = 6\n",
      "Accuracy on training set: 0.9821428571428571\n",
      "Accuracy on test set: 1.0\n",
      "Mean cv score: 0.9600000000000002\n",
      "cv score std: 0.03265986323710903\n",
      "\n",
      "\n",
      "max_leaf_nodes = 5\n",
      "Accuracy on training set: 0.9732142857142857\n",
      "Accuracy on test set: 1.0\n",
      "Mean cv score: 0.9666666666666668\n",
      "cv score std: 0.036514837167011066\n",
      "\n",
      "\n",
      "max_leaf_nodes = 4\n",
      "Accuracy on training set: 0.9642857142857143\n",
      "Accuracy on test set: 1.0\n",
      "Mean cv score: 0.96\n",
      "cv score std: 0.024944382578492935\n",
      "\n",
      "\n",
      "max_leaf_nodes = 3\n",
      "Accuracy on training set: 0.9464285714285714\n",
      "Accuracy on test set: 1.0\n",
      "Mean cv score: 0.9333333333333332\n",
      "cv score std: 0.04714045207910316\n",
      "\n",
      "\n",
      "max_leaf_nodes = 2\n",
      "Accuracy on training set: 0.6607142857142857\n",
      "Accuracy on test set: 0.6842105263157895\n",
      "Mean cv score: 0.6666666666666666\n",
      "cv score std: 0.0\n",
      "\n",
      "\n"
     ]
    }
   ],
   "source": [
    "# vary max_leaf_nodes from 9 to 2\n",
    "value_range = range(10, 1, -1)         \n",
    "\n",
    "scores = {v: train_tree(random_state=42, max_leaf_nodes=v) for v in value_range}\n",
    "          \n",
    "for value, scores in scores.items():\n",
    "    print(f'max_leaf_nodes = {value}')\n",
    "    print_scores(scores)\n",
    "    print('\\n')"
   ]
  },
  {
   "cell_type": "markdown",
   "metadata": {},
   "source": [
    "Score is highest when max_leaf_nodes is at least 4, but it's not clear which is best."
   ]
  },
  {
   "cell_type": "markdown",
   "metadata": {},
   "source": [
    "## Stopping by setting minimum samples for splitting"
   ]
  },
  {
   "cell_type": "code",
   "execution_count": 322,
   "metadata": {},
   "outputs": [
    {
     "name": "stdout",
     "output_type": "stream",
     "text": [
      "min_samples_split = 10\n",
      "Accuracy on training set: 0.9732142857142857\n",
      "Accuracy on test set: 1.0\n",
      "Mean cv score: 0.9666666666666668\n",
      "cv score std: 0.02108185106778919\n",
      "\n",
      "\n",
      "min_samples_split = 9\n",
      "Accuracy on training set: 0.9732142857142857\n",
      "Accuracy on test set: 1.0\n",
      "Mean cv score: 0.9666666666666668\n",
      "cv score std: 0.02108185106778919\n",
      "\n",
      "\n",
      "min_samples_split = 8\n",
      "Accuracy on training set: 0.9732142857142857\n",
      "Accuracy on test set: 1.0\n",
      "Mean cv score: 0.9666666666666668\n",
      "cv score std: 0.02108185106778919\n",
      "\n",
      "\n",
      "min_samples_split = 7\n",
      "Accuracy on training set: 0.9732142857142857\n",
      "Accuracy on test set: 1.0\n",
      "Mean cv score: 0.9666666666666668\n",
      "cv score std: 0.02108185106778919\n",
      "\n",
      "\n",
      "min_samples_split = 6\n",
      "Accuracy on training set: 0.9821428571428571\n",
      "Accuracy on test set: 1.0\n",
      "Mean cv score: 0.9666666666666668\n",
      "cv score std: 0.02108185106778919\n",
      "\n",
      "\n",
      "min_samples_split = 5\n",
      "Accuracy on training set: 0.9821428571428571\n",
      "Accuracy on test set: 1.0\n",
      "Mean cv score: 0.9666666666666668\n",
      "cv score std: 0.02108185106778919\n",
      "\n",
      "\n",
      "min_samples_split = 4\n",
      "Accuracy on training set: 0.9821428571428571\n",
      "Accuracy on test set: 1.0\n",
      "Mean cv score: 0.9533333333333334\n",
      "cv score std: 0.03399346342395189\n",
      "\n",
      "\n",
      "min_samples_split = 3\n",
      "Accuracy on training set: 1.0\n",
      "Accuracy on test set: 1.0\n",
      "Mean cv score: 0.9533333333333334\n",
      "cv score std: 0.03399346342395189\n",
      "\n",
      "\n",
      "min_samples_split = 2\n",
      "Accuracy on training set: 1.0\n",
      "Accuracy on test set: 1.0\n",
      "Mean cv score: 0.9533333333333334\n",
      "cv score std: 0.03399346342395189\n",
      "\n",
      "\n"
     ]
    }
   ],
   "source": [
    "# vary min_samples_split from 10 to 2\n",
    "value_range = range(10, 1, -1)\n",
    "\n",
    "scores = {v: train_tree(random_state=42, min_samples_split=v) for v in value_range}\n",
    "          \n",
    "for value, scores in scores.items():\n",
    "    print(f'min_samples_split = {value}')\n",
    "    print_scores(scores)\n",
    "    print('\\n')"
   ]
  },
  {
   "cell_type": "markdown",
   "metadata": {},
   "source": [
    "Score are best when min_samples_split >= 5."
   ]
  },
  {
   "cell_type": "markdown",
   "metadata": {},
   "source": [
    "## Stopping by setting minimum samples in leaf nodes"
   ]
  },
  {
   "cell_type": "code",
   "execution_count": 323,
   "metadata": {},
   "outputs": [
    {
     "name": "stdout",
     "output_type": "stream",
     "text": [
      "min_samples_leaf = 10\n",
      "Accuracy on training set: 0.9464285714285714\n",
      "Accuracy on test set: 1.0\n",
      "Mean cv score: 0.9333333333333332\n",
      "cv score std: 0.04714045207910316\n",
      "\n",
      "\n",
      "min_samples_leaf = 9\n",
      "Accuracy on training set: 0.9464285714285714\n",
      "Accuracy on test set: 1.0\n",
      "Mean cv score: 0.9333333333333332\n",
      "cv score std: 0.04714045207910316\n",
      "\n",
      "\n",
      "min_samples_leaf = 8\n",
      "Accuracy on training set: 0.9464285714285714\n",
      "Accuracy on test set: 1.0\n",
      "Mean cv score: 0.9400000000000001\n",
      "cv score std: 0.04898979485566354\n",
      "\n",
      "\n",
      "min_samples_leaf = 7\n",
      "Accuracy on training set: 0.9464285714285714\n",
      "Accuracy on test set: 1.0\n",
      "Mean cv score: 0.9400000000000001\n",
      "cv score std: 0.04898979485566354\n",
      "\n",
      "\n",
      "min_samples_leaf = 6\n",
      "Accuracy on training set: 0.9642857142857143\n",
      "Accuracy on test set: 1.0\n",
      "Mean cv score: 0.9400000000000001\n",
      "cv score std: 0.04898979485566354\n",
      "\n",
      "\n",
      "min_samples_leaf = 5\n",
      "Accuracy on training set: 0.9642857142857143\n",
      "Accuracy on test set: 1.0\n",
      "Mean cv score: 0.9400000000000001\n",
      "cv score std: 0.06110100926607785\n",
      "\n",
      "\n",
      "min_samples_leaf = 4\n",
      "Accuracy on training set: 0.9642857142857143\n",
      "Accuracy on test set: 1.0\n",
      "Mean cv score: 0.96\n",
      "cv score std: 0.024944382578492935\n",
      "\n",
      "\n",
      "min_samples_leaf = 3\n",
      "Accuracy on training set: 0.9732142857142857\n",
      "Accuracy on test set: 1.0\n",
      "Mean cv score: 0.96\n",
      "cv score std: 0.024944382578492935\n",
      "\n",
      "\n",
      "min_samples_leaf = 2\n",
      "Accuracy on training set: 0.9732142857142857\n",
      "Accuracy on test set: 1.0\n",
      "Mean cv score: 0.9533333333333334\n",
      "cv score std: 0.03399346342395189\n",
      "\n",
      "\n",
      "min_samples_leaf = 1\n",
      "Accuracy on training set: 1.0\n",
      "Accuracy on test set: 1.0\n",
      "Mean cv score: 0.9533333333333334\n",
      "cv score std: 0.03399346342395189\n",
      "\n",
      "\n"
     ]
    }
   ],
   "source": [
    "# vary min_samples_leaf from 10 to 1\n",
    "value_range = range(10, 0, -1)\n",
    "\n",
    "scores = {v: train_tree(random_state=42, min_samples_leaf=v) for v in value_range}\n",
    "          \n",
    "for value, scores in scores.items():\n",
    "    print(f'min_samples_leaf = {value}')\n",
    "    print_scores(scores)\n",
    "    print('\\n')"
   ]
  },
  {
   "cell_type": "markdown",
   "metadata": {},
   "source": [
    "Tuning min_samples_leaf didn't improve the score above 0.95."
   ]
  },
  {
   "cell_type": "markdown",
   "metadata": {},
   "source": [
    "## Hyperparameter tuning"
   ]
  },
  {
   "cell_type": "markdown",
   "metadata": {},
   "source": [
    "### Grid search"
   ]
  },
  {
   "cell_type": "code",
   "execution_count": 332,
   "metadata": {},
   "outputs": [
    {
     "name": "stdout",
     "output_type": "stream",
     "text": [
      "best score: 0.9666666666666667\n",
      "best criterion value: gini\n",
      "best max_depth value: 3\n",
      "best max_leaf_nodes value: 6\n",
      "best min_samples_split value: 5\n"
     ]
    }
   ],
   "source": [
    "from sklearn.model_selection import GridSearchCV\n",
    "\n",
    "param_grid = {\n",
    "    'criterion': ['gini', 'entropy'],\n",
    "    'max_depth': list(range(3, 6)) + [None],\n",
    "    'max_leaf_nodes': list(range(6, 11)) + [None],\n",
    "    'min_samples_split': list(range(2, 11))\n",
    "}\n",
    "\n",
    "gs = GridSearchCV(DecisionTreeClassifier(), param_grid, cv=10)\n",
    "gs.fit(X, y)\n",
    "\n",
    "print(f'best score: {gs.best_score_}')\n",
    "for param, value in gs.best_params_.items():\n",
    "    print(f'best {param} value: {value}')"
   ]
  },
  {
   "cell_type": "markdown",
   "metadata": {},
   "source": [
    "Confirm results"
   ]
  },
  {
   "cell_type": "code",
   "execution_count": 333,
   "metadata": {},
   "outputs": [
    {
     "name": "stdout",
     "output_type": "stream",
     "text": [
      "cv scores mean: 0.9666666666666666\n",
      "cv scores std: 0.033333333333333326\n"
     ]
    }
   ],
   "source": [
    "tree2 = DecisionTreeClassifier(**gs.best_params_)\n",
    "cv_scores = cross_val_score(tree2, X, y, cv=10)\n",
    "print(f'cv scores mean: {cv_scores.mean()}')\n",
    "print(f'cv scores std: {cv_scores.std()}')"
   ]
  },
  {
   "cell_type": "markdown",
   "metadata": {},
   "source": [
    "### Random search\n",
    "\n",
    "\n",
    "\n"
   ]
  },
  {
   "cell_type": "code",
   "execution_count": 334,
   "metadata": {},
   "outputs": [
    {
     "name": "stdout",
     "output_type": "stream",
     "text": [
      "best score: 0.96\n",
      "best min_samples_split value: 6\n",
      "best max_leaf_nodes value: 6\n",
      "best max_depth value: 4\n",
      "best criterion value: entropy\n"
     ]
    }
   ],
   "source": [
    "from sklearn.model_selection import RandomizedSearchCV\n",
    "\n",
    "rs = RandomizedSearchCV(DecisionTreeClassifier(), param_grid, cv=10)\n",
    "rs.fit(X, y)\n",
    "\n",
    "print(f'best score: {rs.best_score_}')\n",
    "for param, value in rs.best_params_.items():\n",
    "    print(f'best {param} value: {value}')"
   ]
  },
  {
   "cell_type": "markdown",
   "metadata": {},
   "source": [
    "Confirm results"
   ]
  },
  {
   "cell_type": "code",
   "execution_count": 335,
   "metadata": {},
   "outputs": [
    {
     "name": "stdout",
     "output_type": "stream",
     "text": [
      "cv scores mean: 0.96\n",
      "cv scores std: 0.03265986323710903\n"
     ]
    }
   ],
   "source": [
    "tree3 = DecisionTreeClassifier(**rs.best_params_)\n",
    "cv_scores = cross_val_score(tree3, X, y, cv=10)\n",
    "print(f'cv scores mean: {cv_scores.mean()}')\n",
    "print(f'cv scores std: {cv_scores.std()}')"
   ]
  },
  {
   "cell_type": "markdown",
   "metadata": {},
   "source": [
    "## Pruning"
   ]
  },
  {
   "cell_type": "code",
   "execution_count": 171,
   "metadata": {},
   "outputs": [
    {
     "data": {
      "image/svg+xml": [
       "<?xml version=\"1.0\" encoding=\"UTF-8\" standalone=\"no\"?>\n",
       "<!DOCTYPE svg PUBLIC \"-//W3C//DTD SVG 1.1//EN\"\n",
       " \"http://www.w3.org/Graphics/SVG/1.1/DTD/svg11.dtd\">\n",
       "<!-- Generated by graphviz version 2.40.1 (20161225.0304)\n",
       " -->\n",
       "<!-- Title: Tree Pages: 1 -->\n",
       "<svg width=\"791pt\" height=\"581pt\"\n",
       " viewBox=\"0.00 0.00 791.00 581.00\" xmlns=\"http://www.w3.org/2000/svg\" xmlns:xlink=\"http://www.w3.org/1999/xlink\">\n",
       "<g id=\"graph0\" class=\"graph\" transform=\"scale(1 1) rotate(0) translate(4 577)\">\n",
       "<title>Tree</title>\n",
       "<polygon fill=\"#ffffff\" stroke=\"transparent\" points=\"-4,4 -4,-577 787,-577 787,4 -4,4\"/>\n",
       "<!-- 0 -->\n",
       "<g id=\"node1\" class=\"node\">\n",
       "<title>0</title>\n",
       "<polygon fill=\"transparent\" stroke=\"#000000\" points=\"480,-573 347,-573 347,-505 480,-505 480,-573\"/>\n",
       "<text text-anchor=\"middle\" x=\"413.5\" y=\"-557.8\" font-family=\"Times,serif\" font-size=\"14.00\" fill=\"#000000\">petal_length &lt;= 2.45</text>\n",
       "<text text-anchor=\"middle\" x=\"413.5\" y=\"-542.8\" font-family=\"Times,serif\" font-size=\"14.00\" fill=\"#000000\">samples = 150</text>\n",
       "<text text-anchor=\"middle\" x=\"413.5\" y=\"-527.8\" font-family=\"Times,serif\" font-size=\"14.00\" fill=\"#000000\">value = [50, 50, 50]</text>\n",
       "<text text-anchor=\"middle\" x=\"413.5\" y=\"-512.8\" font-family=\"Times,serif\" font-size=\"14.00\" fill=\"#000000\">class = 0</text>\n",
       "</g>\n",
       "<!-- 1 -->\n",
       "<g id=\"node2\" class=\"node\">\n",
       "<title>1</title>\n",
       "<polygon fill=\"#39e581\" stroke=\"#000000\" points=\"400,-461.5 287,-461.5 287,-408.5 400,-408.5 400,-461.5\"/>\n",
       "<text text-anchor=\"middle\" x=\"343.5\" y=\"-446.3\" font-family=\"Times,serif\" font-size=\"14.00\" fill=\"#000000\">samples = 50</text>\n",
       "<text text-anchor=\"middle\" x=\"343.5\" y=\"-431.3\" font-family=\"Times,serif\" font-size=\"14.00\" fill=\"#000000\">value = [0, 50, 0]</text>\n",
       "<text text-anchor=\"middle\" x=\"343.5\" y=\"-416.3\" font-family=\"Times,serif\" font-size=\"14.00\" fill=\"#000000\">class = 1</text>\n",
       "</g>\n",
       "<!-- 0&#45;&gt;1 -->\n",
       "<g id=\"edge1\" class=\"edge\">\n",
       "<title>0&#45;&gt;1</title>\n",
       "<path fill=\"none\" stroke=\"#000000\" d=\"M390.5794,-504.9465C383.0172,-493.7113 374.5976,-481.2021 366.9933,-469.9043\"/>\n",
       "<polygon fill=\"#000000\" stroke=\"#000000\" points=\"369.8523,-467.8837 361.3649,-461.5422 364.0452,-471.7924 369.8523,-467.8837\"/>\n",
       "<text text-anchor=\"middle\" x=\"356.5705\" y=\"-482.3781\" font-family=\"Times,serif\" font-size=\"14.00\" fill=\"#000000\">True</text>\n",
       "</g>\n",
       "<!-- 2 -->\n",
       "<g id=\"node3\" class=\"node\">\n",
       "<title>2</title>\n",
       "<polygon fill=\"transparent\" stroke=\"#000000\" points=\"548.5,-469 418.5,-469 418.5,-401 548.5,-401 548.5,-469\"/>\n",
       "<text text-anchor=\"middle\" x=\"483.5\" y=\"-453.8\" font-family=\"Times,serif\" font-size=\"14.00\" fill=\"#000000\">petal_width &lt;= 1.75</text>\n",
       "<text text-anchor=\"middle\" x=\"483.5\" y=\"-438.8\" font-family=\"Times,serif\" font-size=\"14.00\" fill=\"#000000\">samples = 100</text>\n",
       "<text text-anchor=\"middle\" x=\"483.5\" y=\"-423.8\" font-family=\"Times,serif\" font-size=\"14.00\" fill=\"#000000\">value = [50, 0, 50]</text>\n",
       "<text text-anchor=\"middle\" x=\"483.5\" y=\"-408.8\" font-family=\"Times,serif\" font-size=\"14.00\" fill=\"#000000\">class = 0</text>\n",
       "</g>\n",
       "<!-- 0&#45;&gt;2 -->\n",
       "<g id=\"edge2\" class=\"edge\">\n",
       "<title>0&#45;&gt;2</title>\n",
       "<path fill=\"none\" stroke=\"#000000\" d=\"M436.4206,-504.9465C442.2826,-496.2373 448.6598,-486.7626 454.773,-477.6801\"/>\n",
       "<polygon fill=\"#000000\" stroke=\"#000000\" points=\"457.8476,-479.3802 460.5279,-469.13 452.0405,-475.4716 457.8476,-479.3802\"/>\n",
       "<text text-anchor=\"middle\" x=\"465.3223\" y=\"-489.966\" font-family=\"Times,serif\" font-size=\"14.00\" fill=\"#000000\">False</text>\n",
       "</g>\n",
       "<!-- 3 -->\n",
       "<g id=\"node4\" class=\"node\">\n",
       "<title>3</title>\n",
       "<polygon fill=\"#8139e5\" fill-opacity=\"0.898039\" stroke=\"#000000\" points=\"449,-365 316,-365 316,-297 449,-297 449,-365\"/>\n",
       "<text text-anchor=\"middle\" x=\"382.5\" y=\"-349.8\" font-family=\"Times,serif\" font-size=\"14.00\" fill=\"#000000\">petal_length &lt;= 4.95</text>\n",
       "<text text-anchor=\"middle\" x=\"382.5\" y=\"-334.8\" font-family=\"Times,serif\" font-size=\"14.00\" fill=\"#000000\">samples = 54</text>\n",
       "<text text-anchor=\"middle\" x=\"382.5\" y=\"-319.8\" font-family=\"Times,serif\" font-size=\"14.00\" fill=\"#000000\">value = [5, 0, 49]</text>\n",
       "<text text-anchor=\"middle\" x=\"382.5\" y=\"-304.8\" font-family=\"Times,serif\" font-size=\"14.00\" fill=\"#000000\">class = 2</text>\n",
       "</g>\n",
       "<!-- 2&#45;&gt;3 -->\n",
       "<g id=\"edge3\" class=\"edge\">\n",
       "<title>2&#45;&gt;3</title>\n",
       "<path fill=\"none\" stroke=\"#000000\" d=\"M450.4288,-400.9465C441.6221,-391.8782 432.0093,-381.9799 422.8597,-372.5585\"/>\n",
       "<polygon fill=\"#000000\" stroke=\"#000000\" points=\"425.1232,-369.8654 415.6455,-365.13 420.1015,-374.7422 425.1232,-369.8654\"/>\n",
       "</g>\n",
       "<!-- 12 -->\n",
       "<g id=\"node13\" class=\"node\">\n",
       "<title>12</title>\n",
       "<polygon fill=\"#e58139\" fill-opacity=\"0.976471\" stroke=\"#000000\" points=\"651,-365 518,-365 518,-297 651,-297 651,-365\"/>\n",
       "<text text-anchor=\"middle\" x=\"584.5\" y=\"-349.8\" font-family=\"Times,serif\" font-size=\"14.00\" fill=\"#000000\">petal_length &lt;= 4.85</text>\n",
       "<text text-anchor=\"middle\" x=\"584.5\" y=\"-334.8\" font-family=\"Times,serif\" font-size=\"14.00\" fill=\"#000000\">samples = 46</text>\n",
       "<text text-anchor=\"middle\" x=\"584.5\" y=\"-319.8\" font-family=\"Times,serif\" font-size=\"14.00\" fill=\"#000000\">value = [45, 0, 1]</text>\n",
       "<text text-anchor=\"middle\" x=\"584.5\" y=\"-304.8\" font-family=\"Times,serif\" font-size=\"14.00\" fill=\"#000000\">class = 0</text>\n",
       "</g>\n",
       "<!-- 2&#45;&gt;12 -->\n",
       "<g id=\"edge12\" class=\"edge\">\n",
       "<title>2&#45;&gt;12</title>\n",
       "<path fill=\"none\" stroke=\"#000000\" d=\"M516.5712,-400.9465C525.3779,-391.8782 534.9907,-381.9799 544.1403,-372.5585\"/>\n",
       "<polygon fill=\"#000000\" stroke=\"#000000\" points=\"546.8985,-374.7422 551.3545,-365.13 541.8768,-369.8654 546.8985,-374.7422\"/>\n",
       "</g>\n",
       "<!-- 4 -->\n",
       "<g id=\"node5\" class=\"node\">\n",
       "<title>4</title>\n",
       "<polygon fill=\"#8139e5\" fill-opacity=\"0.980392\" stroke=\"#000000\" points=\"249.5,-261 119.5,-261 119.5,-193 249.5,-193 249.5,-261\"/>\n",
       "<text text-anchor=\"middle\" x=\"184.5\" y=\"-245.8\" font-family=\"Times,serif\" font-size=\"14.00\" fill=\"#000000\">petal_width &lt;= 1.65</text>\n",
       "<text text-anchor=\"middle\" x=\"184.5\" y=\"-230.8\" font-family=\"Times,serif\" font-size=\"14.00\" fill=\"#000000\">samples = 48</text>\n",
       "<text text-anchor=\"middle\" x=\"184.5\" y=\"-215.8\" font-family=\"Times,serif\" font-size=\"14.00\" fill=\"#000000\">value = [1, 0, 47]</text>\n",
       "<text text-anchor=\"middle\" x=\"184.5\" y=\"-200.8\" font-family=\"Times,serif\" font-size=\"14.00\" fill=\"#000000\">class = 2</text>\n",
       "</g>\n",
       "<!-- 3&#45;&gt;4 -->\n",
       "<g id=\"edge4\" class=\"edge\">\n",
       "<title>3&#45;&gt;4</title>\n",
       "<path fill=\"none\" stroke=\"#000000\" d=\"M317.6674,-296.9465C298.7788,-287.0252 277.9988,-276.1105 258.5858,-265.9138\"/>\n",
       "<polygon fill=\"#000000\" stroke=\"#000000\" points=\"259.9589,-262.6816 249.4783,-261.13 256.7038,-268.8787 259.9589,-262.6816\"/>\n",
       "</g>\n",
       "<!-- 7 -->\n",
       "<g id=\"node8\" class=\"node\">\n",
       "<title>7</title>\n",
       "<polygon fill=\"#e58139\" fill-opacity=\"0.498039\" stroke=\"#000000\" points=\"447.5,-261 317.5,-261 317.5,-193 447.5,-193 447.5,-261\"/>\n",
       "<text text-anchor=\"middle\" x=\"382.5\" y=\"-245.8\" font-family=\"Times,serif\" font-size=\"14.00\" fill=\"#000000\">petal_width &lt;= 1.55</text>\n",
       "<text text-anchor=\"middle\" x=\"382.5\" y=\"-230.8\" font-family=\"Times,serif\" font-size=\"14.00\" fill=\"#000000\">samples = 6</text>\n",
       "<text text-anchor=\"middle\" x=\"382.5\" y=\"-215.8\" font-family=\"Times,serif\" font-size=\"14.00\" fill=\"#000000\">value = [4, 0, 2]</text>\n",
       "<text text-anchor=\"middle\" x=\"382.5\" y=\"-200.8\" font-family=\"Times,serif\" font-size=\"14.00\" fill=\"#000000\">class = 0</text>\n",
       "</g>\n",
       "<!-- 3&#45;&gt;7 -->\n",
       "<g id=\"edge7\" class=\"edge\">\n",
       "<title>3&#45;&gt;7</title>\n",
       "<path fill=\"none\" stroke=\"#000000\" d=\"M382.5,-296.9465C382.5,-288.776 382.5,-279.9318 382.5,-271.3697\"/>\n",
       "<polygon fill=\"#000000\" stroke=\"#000000\" points=\"386.0001,-271.13 382.5,-261.13 379.0001,-271.13 386.0001,-271.13\"/>\n",
       "</g>\n",
       "<!-- 5 -->\n",
       "<g id=\"node6\" class=\"node\">\n",
       "<title>5</title>\n",
       "<polygon fill=\"#8139e5\" stroke=\"#000000\" points=\"113,-149.5 0,-149.5 0,-96.5 113,-96.5 113,-149.5\"/>\n",
       "<text text-anchor=\"middle\" x=\"56.5\" y=\"-134.3\" font-family=\"Times,serif\" font-size=\"14.00\" fill=\"#000000\">samples = 47</text>\n",
       "<text text-anchor=\"middle\" x=\"56.5\" y=\"-119.3\" font-family=\"Times,serif\" font-size=\"14.00\" fill=\"#000000\">value = [0, 0, 47]</text>\n",
       "<text text-anchor=\"middle\" x=\"56.5\" y=\"-104.3\" font-family=\"Times,serif\" font-size=\"14.00\" fill=\"#000000\">class = 2</text>\n",
       "</g>\n",
       "<!-- 4&#45;&gt;5 -->\n",
       "<g id=\"edge5\" class=\"edge\">\n",
       "<title>4&#45;&gt;5</title>\n",
       "<path fill=\"none\" stroke=\"#000000\" d=\"M142.588,-192.9465C127.9467,-181.0504 111.5474,-167.726 97.0215,-155.9237\"/>\n",
       "<polygon fill=\"#000000\" stroke=\"#000000\" points=\"99.1355,-153.1317 89.1673,-149.5422 94.7214,-158.5645 99.1355,-153.1317\"/>\n",
       "</g>\n",
       "<!-- 6 -->\n",
       "<g id=\"node7\" class=\"node\">\n",
       "<title>6</title>\n",
       "<polygon fill=\"#e58139\" stroke=\"#000000\" points=\"237.5,-149.5 131.5,-149.5 131.5,-96.5 237.5,-96.5 237.5,-149.5\"/>\n",
       "<text text-anchor=\"middle\" x=\"184.5\" y=\"-134.3\" font-family=\"Times,serif\" font-size=\"14.00\" fill=\"#000000\">samples = 1</text>\n",
       "<text text-anchor=\"middle\" x=\"184.5\" y=\"-119.3\" font-family=\"Times,serif\" font-size=\"14.00\" fill=\"#000000\">value = [1, 0, 0]</text>\n",
       "<text text-anchor=\"middle\" x=\"184.5\" y=\"-104.3\" font-family=\"Times,serif\" font-size=\"14.00\" fill=\"#000000\">class = 0</text>\n",
       "</g>\n",
       "<!-- 4&#45;&gt;6 -->\n",
       "<g id=\"edge6\" class=\"edge\">\n",
       "<title>4&#45;&gt;6</title>\n",
       "<path fill=\"none\" stroke=\"#000000\" d=\"M184.5,-192.9465C184.5,-182.2621 184.5,-170.4254 184.5,-159.5742\"/>\n",
       "<polygon fill=\"#000000\" stroke=\"#000000\" points=\"188.0001,-159.5421 184.5,-149.5422 181.0001,-159.5422 188.0001,-159.5421\"/>\n",
       "</g>\n",
       "<!-- 8 -->\n",
       "<g id=\"node9\" class=\"node\">\n",
       "<title>8</title>\n",
       "<polygon fill=\"#e58139\" stroke=\"#000000\" points=\"361.5,-149.5 255.5,-149.5 255.5,-96.5 361.5,-96.5 361.5,-149.5\"/>\n",
       "<text text-anchor=\"middle\" x=\"308.5\" y=\"-134.3\" font-family=\"Times,serif\" font-size=\"14.00\" fill=\"#000000\">samples = 3</text>\n",
       "<text text-anchor=\"middle\" x=\"308.5\" y=\"-119.3\" font-family=\"Times,serif\" font-size=\"14.00\" fill=\"#000000\">value = [3, 0, 0]</text>\n",
       "<text text-anchor=\"middle\" x=\"308.5\" y=\"-104.3\" font-family=\"Times,serif\" font-size=\"14.00\" fill=\"#000000\">class = 0</text>\n",
       "</g>\n",
       "<!-- 7&#45;&gt;8 -->\n",
       "<g id=\"edge8\" class=\"edge\">\n",
       "<title>7&#45;&gt;8</title>\n",
       "<path fill=\"none\" stroke=\"#000000\" d=\"M358.2696,-192.9465C350.2754,-181.7113 341.3746,-169.2021 333.3358,-157.9043\"/>\n",
       "<polygon fill=\"#000000\" stroke=\"#000000\" points=\"336.0351,-155.6609 327.3858,-149.5422 330.3316,-159.7192 336.0351,-155.6609\"/>\n",
       "</g>\n",
       "<!-- 9 -->\n",
       "<g id=\"node10\" class=\"node\">\n",
       "<title>9</title>\n",
       "<polygon fill=\"#8139e5\" fill-opacity=\"0.498039\" stroke=\"#000000\" points=\"513,-157 380,-157 380,-89 513,-89 513,-157\"/>\n",
       "<text text-anchor=\"middle\" x=\"446.5\" y=\"-141.8\" font-family=\"Times,serif\" font-size=\"14.00\" fill=\"#000000\">petal_length &lt;= 5.45</text>\n",
       "<text text-anchor=\"middle\" x=\"446.5\" y=\"-126.8\" font-family=\"Times,serif\" font-size=\"14.00\" fill=\"#000000\">samples = 3</text>\n",
       "<text text-anchor=\"middle\" x=\"446.5\" y=\"-111.8\" font-family=\"Times,serif\" font-size=\"14.00\" fill=\"#000000\">value = [1, 0, 2]</text>\n",
       "<text text-anchor=\"middle\" x=\"446.5\" y=\"-96.8\" font-family=\"Times,serif\" font-size=\"14.00\" fill=\"#000000\">class = 2</text>\n",
       "</g>\n",
       "<!-- 7&#45;&gt;9 -->\n",
       "<g id=\"edge9\" class=\"edge\">\n",
       "<title>7&#45;&gt;9</title>\n",
       "<path fill=\"none\" stroke=\"#000000\" d=\"M403.456,-192.9465C408.8155,-184.2373 414.6461,-174.7626 420.2353,-165.6801\"/>\n",
       "<polygon fill=\"#000000\" stroke=\"#000000\" points=\"423.2367,-167.481 425.4969,-157.13 417.2751,-163.8122 423.2367,-167.481\"/>\n",
       "</g>\n",
       "<!-- 10 -->\n",
       "<g id=\"node11\" class=\"node\">\n",
       "<title>10</title>\n",
       "<polygon fill=\"#8139e5\" stroke=\"#000000\" points=\"437.5,-53 331.5,-53 331.5,0 437.5,0 437.5,-53\"/>\n",
       "<text text-anchor=\"middle\" x=\"384.5\" y=\"-37.8\" font-family=\"Times,serif\" font-size=\"14.00\" fill=\"#000000\">samples = 2</text>\n",
       "<text text-anchor=\"middle\" x=\"384.5\" y=\"-22.8\" font-family=\"Times,serif\" font-size=\"14.00\" fill=\"#000000\">value = [0, 0, 2]</text>\n",
       "<text text-anchor=\"middle\" x=\"384.5\" y=\"-7.8\" font-family=\"Times,serif\" font-size=\"14.00\" fill=\"#000000\">class = 2</text>\n",
       "</g>\n",
       "<!-- 9&#45;&gt;10 -->\n",
       "<g id=\"edge10\" class=\"edge\">\n",
       "<title>9&#45;&gt;10</title>\n",
       "<path fill=\"none\" stroke=\"#000000\" d=\"M424.6411,-88.9777C418.9932,-80.187 412.9007,-70.7044 407.2104,-61.8477\"/>\n",
       "<polygon fill=\"#000000\" stroke=\"#000000\" points=\"410.0356,-59.7698 401.6856,-53.2485 404.1463,-63.5536 410.0356,-59.7698\"/>\n",
       "</g>\n",
       "<!-- 11 -->\n",
       "<g id=\"node12\" class=\"node\">\n",
       "<title>11</title>\n",
       "<polygon fill=\"#e58139\" stroke=\"#000000\" points=\"561.5,-53 455.5,-53 455.5,0 561.5,0 561.5,-53\"/>\n",
       "<text text-anchor=\"middle\" x=\"508.5\" y=\"-37.8\" font-family=\"Times,serif\" font-size=\"14.00\" fill=\"#000000\">samples = 1</text>\n",
       "<text text-anchor=\"middle\" x=\"508.5\" y=\"-22.8\" font-family=\"Times,serif\" font-size=\"14.00\" fill=\"#000000\">value = [1, 0, 0]</text>\n",
       "<text text-anchor=\"middle\" x=\"508.5\" y=\"-7.8\" font-family=\"Times,serif\" font-size=\"14.00\" fill=\"#000000\">class = 0</text>\n",
       "</g>\n",
       "<!-- 9&#45;&gt;11 -->\n",
       "<g id=\"edge11\" class=\"edge\">\n",
       "<title>9&#45;&gt;11</title>\n",
       "<path fill=\"none\" stroke=\"#000000\" d=\"M468.3589,-88.9777C474.0068,-80.187 480.0993,-70.7044 485.7896,-61.8477\"/>\n",
       "<polygon fill=\"#000000\" stroke=\"#000000\" points=\"488.8537,-63.5536 491.3144,-53.2485 482.9644,-59.7698 488.8537,-63.5536\"/>\n",
       "</g>\n",
       "<!-- 13 -->\n",
       "<g id=\"node14\" class=\"node\">\n",
       "<title>13</title>\n",
       "<polygon fill=\"#e58139\" fill-opacity=\"0.498039\" stroke=\"#000000\" points=\"652,-261 517,-261 517,-193 652,-193 652,-261\"/>\n",
       "<text text-anchor=\"middle\" x=\"584.5\" y=\"-245.8\" font-family=\"Times,serif\" font-size=\"14.00\" fill=\"#000000\">sepal_length &lt;= 5.95</text>\n",
       "<text text-anchor=\"middle\" x=\"584.5\" y=\"-230.8\" font-family=\"Times,serif\" font-size=\"14.00\" fill=\"#000000\">samples = 3</text>\n",
       "<text text-anchor=\"middle\" x=\"584.5\" y=\"-215.8\" font-family=\"Times,serif\" font-size=\"14.00\" fill=\"#000000\">value = [2, 0, 1]</text>\n",
       "<text text-anchor=\"middle\" x=\"584.5\" y=\"-200.8\" font-family=\"Times,serif\" font-size=\"14.00\" fill=\"#000000\">class = 0</text>\n",
       "</g>\n",
       "<!-- 12&#45;&gt;13 -->\n",
       "<g id=\"edge13\" class=\"edge\">\n",
       "<title>12&#45;&gt;13</title>\n",
       "<path fill=\"none\" stroke=\"#000000\" d=\"M584.5,-296.9465C584.5,-288.776 584.5,-279.9318 584.5,-271.3697\"/>\n",
       "<polygon fill=\"#000000\" stroke=\"#000000\" points=\"588.0001,-271.13 584.5,-261.13 581.0001,-271.13 588.0001,-271.13\"/>\n",
       "</g>\n",
       "<!-- 16 -->\n",
       "<g id=\"node17\" class=\"node\">\n",
       "<title>16</title>\n",
       "<polygon fill=\"#e58139\" stroke=\"#000000\" points=\"783,-253.5 670,-253.5 670,-200.5 783,-200.5 783,-253.5\"/>\n",
       "<text text-anchor=\"middle\" x=\"726.5\" y=\"-238.3\" font-family=\"Times,serif\" font-size=\"14.00\" fill=\"#000000\">samples = 43</text>\n",
       "<text text-anchor=\"middle\" x=\"726.5\" y=\"-223.3\" font-family=\"Times,serif\" font-size=\"14.00\" fill=\"#000000\">value = [43, 0, 0]</text>\n",
       "<text text-anchor=\"middle\" x=\"726.5\" y=\"-208.3\" font-family=\"Times,serif\" font-size=\"14.00\" fill=\"#000000\">class = 0</text>\n",
       "</g>\n",
       "<!-- 12&#45;&gt;16 -->\n",
       "<g id=\"edge16\" class=\"edge\">\n",
       "<title>12&#45;&gt;16</title>\n",
       "<path fill=\"none\" stroke=\"#000000\" d=\"M630.9961,-296.9465C647.3893,-284.9403 665.7689,-271.4791 681.9936,-259.5962\"/>\n",
       "<polygon fill=\"#000000\" stroke=\"#000000\" points=\"684.2601,-262.2746 690.2597,-253.5422 680.124,-256.6272 684.2601,-262.2746\"/>\n",
       "</g>\n",
       "<!-- 14 -->\n",
       "<g id=\"node15\" class=\"node\">\n",
       "<title>14</title>\n",
       "<polygon fill=\"#8139e5\" stroke=\"#000000\" points=\"637.5,-149.5 531.5,-149.5 531.5,-96.5 637.5,-96.5 637.5,-149.5\"/>\n",
       "<text text-anchor=\"middle\" x=\"584.5\" y=\"-134.3\" font-family=\"Times,serif\" font-size=\"14.00\" fill=\"#000000\">samples = 1</text>\n",
       "<text text-anchor=\"middle\" x=\"584.5\" y=\"-119.3\" font-family=\"Times,serif\" font-size=\"14.00\" fill=\"#000000\">value = [0, 0, 1]</text>\n",
       "<text text-anchor=\"middle\" x=\"584.5\" y=\"-104.3\" font-family=\"Times,serif\" font-size=\"14.00\" fill=\"#000000\">class = 2</text>\n",
       "</g>\n",
       "<!-- 13&#45;&gt;14 -->\n",
       "<g id=\"edge14\" class=\"edge\">\n",
       "<title>13&#45;&gt;14</title>\n",
       "<path fill=\"none\" stroke=\"#000000\" d=\"M584.5,-192.9465C584.5,-182.2621 584.5,-170.4254 584.5,-159.5742\"/>\n",
       "<polygon fill=\"#000000\" stroke=\"#000000\" points=\"588.0001,-159.5421 584.5,-149.5422 581.0001,-159.5422 588.0001,-159.5421\"/>\n",
       "</g>\n",
       "<!-- 15 -->\n",
       "<g id=\"node16\" class=\"node\">\n",
       "<title>15</title>\n",
       "<polygon fill=\"#e58139\" stroke=\"#000000\" points=\"761.5,-149.5 655.5,-149.5 655.5,-96.5 761.5,-96.5 761.5,-149.5\"/>\n",
       "<text text-anchor=\"middle\" x=\"708.5\" y=\"-134.3\" font-family=\"Times,serif\" font-size=\"14.00\" fill=\"#000000\">samples = 2</text>\n",
       "<text text-anchor=\"middle\" x=\"708.5\" y=\"-119.3\" font-family=\"Times,serif\" font-size=\"14.00\" fill=\"#000000\">value = [2, 0, 0]</text>\n",
       "<text text-anchor=\"middle\" x=\"708.5\" y=\"-104.3\" font-family=\"Times,serif\" font-size=\"14.00\" fill=\"#000000\">class = 0</text>\n",
       "</g>\n",
       "<!-- 13&#45;&gt;15 -->\n",
       "<g id=\"edge15\" class=\"edge\">\n",
       "<title>13&#45;&gt;15</title>\n",
       "<path fill=\"none\" stroke=\"#000000\" d=\"M625.1022,-192.9465C639.1547,-181.1606 654.8788,-167.9726 668.8535,-156.2519\"/>\n",
       "<polygon fill=\"#000000\" stroke=\"#000000\" points=\"671.4408,-158.65 676.8536,-149.5422 666.9425,-153.2866 671.4408,-158.65\"/>\n",
       "</g>\n",
       "</g>\n",
       "</svg>\n"
      ],
      "text/plain": [
       "<graphviz.files.Source at 0x7fa2d8058ba8>"
      ]
     },
     "execution_count": 171,
     "metadata": {},
     "output_type": "execute_result"
    }
   ],
   "source": [
    "tree = DecisionTreeClassifier(random_state=42)\n",
    "tree.fit(X, y)\n",
    "\n",
    "export_graphviz(tree, out_file=\"tree.dot\", class_names=[\"0\", \"1\", '2'],\n",
    "feature_names=X.columns.values, impurity=False, filled=True)\n",
    "\n",
    "with open(\"tree.dot\") as f:\n",
    "    dot_graph = f.read()\n",
    "\n",
    "graphviz.Source(dot_graph)"
   ]
  }
 ],
 "metadata": {
  "kernelspec": {
   "display_name": "Python 3",
   "language": "python",
   "name": "python3"
  },
  "language_info": {
   "codemirror_mode": {
    "name": "ipython",
    "version": 3
   },
   "file_extension": ".py",
   "mimetype": "text/x-python",
   "name": "python",
   "nbconvert_exporter": "python",
   "pygments_lexer": "ipython3",
   "version": "3.7.3"
  }
 },
 "nbformat": 4,
 "nbformat_minor": 2
}
